{
 "cells": [
  {
   "cell_type": "markdown",
   "metadata": {},
   "source": [
    "# I presented and arranged the data in 2 ways that gave me different results and finally, I chose the ____ way:\n",
    "* ### The 'df'  -  I initially tried to display the data in the form of a long vector, with each vector (row) containing 5 frames, with the frames selected every second in skips of 5 frames at a time.\n",
    "* ### The 'one_frame_df'  -   After many attempts, I thought of trying to present the data in a 'simpler' way so that each row has only one frame (with right hand versus left hand, of course), this way each row contains much fewer 'features' and thus the model is simpler."
   ]
  },
  {
   "cell_type": "code",
   "execution_count": 443,
   "metadata": {},
   "outputs": [],
   "source": [
    "import numpy as np\n",
    "import pandas as pd \n",
    "import os\n",
    "import seaborn as sns\n",
    "\n",
    "\n",
    "from sklearn.preprocessing import StandardScaler\n",
    "from sklearn.decomposition import PCA\n",
    "import matplotlib.pyplot as plt\n",
    "\n",
    "from sklearn.pipeline import Pipeline\n",
    "from sklearn.linear_model import LogisticRegression\n",
    "from sklearn.metrics import accuracy_score\n",
    "from sklearn.model_selection import cross_val_predict\n",
    "from sklearn.model_selection import train_test_split\n",
    "from sklearn.metrics import classification_report\n",
    "\n",
    "from sklearn.ensemble import VotingClassifier\n",
    "from sklearn.neighbors import KNeighborsClassifier\n",
    "from sklearn.metrics import confusion_matrix\n",
    "from sklearn.ensemble import RandomForestClassifier\n",
    "\n",
    "from sklearn.model_selection import GridSearchCV\n",
    "from sklearn.cluster import KMeans\n",
    "from xgboost import XGBClassifier\n",
    "from sklearn.utils import shuffle\n",
    "from sklearn.ensemble import ExtraTreesClassifier\n",
    "from sklearn.dummy import DummyClassifier\n",
    "\n"
   ]
  },
  {
   "cell_type": "code",
   "execution_count": 12,
   "metadata": {},
   "outputs": [],
   "source": [
    "class color:\n",
    "    PURPLE = '\\033[95m'\n",
    "    CYAN = '\\033[96m'\n",
    "    DARKCYAN = '\\033[36m'\n",
    "    BLUE = '\\033[94m'\n",
    "    GREEN = '\\033[92m'\n",
    "    YELLOW = '\\033[93m'\n",
    "    RED = '\\033[91m'\n",
    "    BOLD = '\\033[1m'\n",
    "    UNDERLINE = '\\033[4m'\n",
    "    END = '\\033[0m' "
   ]
  },
  {
   "cell_type": "code",
   "execution_count": 62,
   "metadata": {},
   "outputs": [],
   "source": [
    "base_dir = r'C:\\Users\\Aviva\\Desktop\\extraFiles'\n",
    "train_dir = os.path.join(base_dir, \"Training\")\n",
    "test_dir = os.path.join(base_dir, \"Validation\")\n",
    "names = os.listdir(train_dir)\n",
    "names_test = os.listdir(test_dir)\n",
    "df_handRight = pd.read_csv(r'C:\\Users\\Aviva\\Desktop\\HandRight.csv')\n",
    "classes = ['Alone', 'Spontan', 'Sync']"
   ]
  },
  {
   "cell_type": "code",
   "execution_count": 31,
   "metadata": {},
   "outputs": [],
   "source": [
    "# def creat_df (df_temp, state):\n",
    "# #     df_one = pd.DataFrame # just temporary! \n",
    "# #     df_final = pd.DataFrame\n",
    "#     first=True\n",
    "#     start =  int(df_temp['Time_L'][0])\n",
    "#     end = int(df_temp['Time_L'][df_temp.index.max()])\n",
    "#     for time in range(start, end):\n",
    "#         df_sec = df_temp[df_temp['Time_L'] == time]\n",
    "#         df_sec = df_sec.iloc[::5, :] # choose rows, each 5 rows from the second\n",
    "#         df_sec = df_sec.reset_index(drop=True)\n",
    "#         if len(df_sec.index) >= 5:\n",
    "#             for frame in range(0,5): \n",
    "#                 df_frame = df_sec[df_sec.index == frame]\n",
    "#                 for column in  df_frame.columns:  # change the columns names\n",
    "#                     column_new = column+\"_{}\".format(str(frame))\n",
    "#                     df_frame.columns = df_frame.columns.str.replace(column, column_new) \n",
    "#                 #---merge all frames to one row----\n",
    "#                 df_frame = df_frame.reset_index(drop=True)\n",
    "#                 if frame == 0:\n",
    "#                     df_one = df_frame\n",
    "#                 else:\n",
    "#                     df_one = pd.concat([df_one, df_frame], axis=1, join=\"inner\")\n",
    "#             df_one['state'] = state\n",
    "#             if first:\n",
    "#                 df_final = df_one\n",
    "#                 first = False\n",
    "#             else:\n",
    "#                 df_final = pd.concat([df_final,df_one])                \n",
    "#     return df_final\n"
   ]
  },
  {
   "cell_type": "code",
   "execution_count": 78,
   "metadata": {},
   "outputs": [],
   "source": [
    " def creat_df (df_temp, state):\n",
    "    first=True\n",
    "    start =  int(df_temp['Time_L'][0])\n",
    "    end = int(df_temp['Time_L'][df_temp.index.max()])\n",
    "    for time in range(start, end):\n",
    "        df_sec = df_temp[df_temp['Time_L'] == time]\n",
    "        df_sec = df_sec.iloc[::5, :] # choose rows, each 5 rows from the second\n",
    "        df_sec = df_sec.reset_index(drop=True)\n",
    "        while len(df_sec.index) >= 5:\n",
    "            df_senple = df_sec.iloc[:5, :]    # choose the first 5 rows\n",
    "            df_senple = df_senple.reset_index(drop=True)\n",
    "            for frame in range(0,5): \n",
    "                df_frame = df_senple[df_senple.index == frame]\n",
    "                for column in  df_frame.columns:  # change the columns names\n",
    "                    column_new = column+\"_{}\".format(str(frame))\n",
    "                    df_frame.columns = df_frame.columns.str.replace(column, column_new) \n",
    "                #---merge all frames to one row----\n",
    "                df_frame = df_frame.reset_index(drop=True)\n",
    "                if frame == 0:\n",
    "                    df_one = df_frame\n",
    "                else:\n",
    "                    df_one = pd.concat([df_one, df_frame], axis=1, join=\"inner\")\n",
    "            df_one['state'] = state\n",
    "            if first:\n",
    "                df_final = df_one\n",
    "                first = False\n",
    "            else:\n",
    "                df_final = pd.concat([df_final,df_one])\n",
    "            df_sec = df_sec.iloc[5:, :]   # delete the first 5 rows\n",
    "\n",
    "    return df_final"
   ]
  },
  {
   "cell_type": "code",
   "execution_count": 79,
   "metadata": {},
   "outputs": [],
   "source": [
    "# Function to duplicate rows\n",
    "def duplicate_rows(df):\n",
    "    df2 = pd.read_csv(r'C:\\Users\\Aviva\\Desktop\\HandRight.csv')\n",
    "    for column in df2.columns:  # change the columns names\n",
    "                column_new = column+'_R'\n",
    "                df2.columns = df2.columns.str.replace(column, column_new)\n",
    "    df = pd.concat([df,df2])\n",
    "    df = df.reset_index(drop=True)\n",
    "    return df"
   ]
  },
  {
   "cell_type": "code",
   "execution_count": 80,
   "metadata": {},
   "outputs": [],
   "source": [
    "def clean_csv (df_temp, state):\n",
    "    start = df_temp['Time_L'][0] + 7\n",
    "    df_temp = df_temp[df_temp['Time_L'] > start] # clean the first 7 secends\n",
    "    if state != '1':\n",
    "        df_temp = df_temp[df_temp[' # hands_L'] == 2] # clean all the rows with 1 hands if not 'alone' state\n",
    "        df_temp = df_temp[df_temp[' # hands_R'] == 2] # clean all the rows with 1 hands if not 'alone' state\n",
    "        df_temp = df_temp.drop(columns=[' # hands_R', ' # hands_L',\n",
    "                                        ' Hand Type_R', ' Hand Type_L']) # remove irrelevant column\n",
    "    else:\n",
    "        df_temp = df_temp.drop(columns=[' # hands_L',\n",
    "                                        ' Hand Type_L',\n",
    "                                       ' Frame ID']) # remove irrelevant column\n",
    "    df_temp['Time_L'] = df_temp['Time_L'].apply(np.floor) #round the time columns so it will be easier to work with\n",
    "    df_temp = df_temp.reset_index(drop=True)\n",
    "    return df_temp"
   ]
  },
  {
   "cell_type": "code",
   "execution_count": 125,
   "metadata": {},
   "outputs": [],
   "source": [
    "def secend_clean (df):\n",
    "    df = df.drop(columns=[\n",
    "                          ' # hands_R_4', ' Hand Type_R_4',\n",
    "                          ' # hands_R_3', ' Hand Type_R_3',\n",
    "                          ' # hands_R_2', ' Hand Type_R_2',\n",
    "                          ' # hands_R_1', ' Hand Type_R_1',\n",
    "                          ' # hands_R_0', ' Hand Type_R_0',\n",
    "                           'Time_R_4',\n",
    "                           'Time_L_4',\n",
    "                           'Time_R_3',\n",
    "                           'Time_L_3',\n",
    "                           'Time_R_2',\n",
    "                           'Time_L_2',\n",
    "                           'Time_R_1',\n",
    "                           'Time_L_1',\n",
    "                           'Time_R_0',\n",
    "                           'Time_L_0'\n",
    "    ]) # remove irrelevant column\n",
    "    df = df.reset_index(drop=True)\n",
    "    return df"
   ]
  },
  {
   "cell_type": "markdown",
   "metadata": {},
   "source": [
    "# state:\n",
    "* ## Alone = '1'\n",
    "* ## Spontan = '2'\n",
    "* ## Sync = '3'"
   ]
  },
  {
   "cell_type": "code",
   "execution_count": 82,
   "metadata": {},
   "outputs": [],
   "source": [
    "def Loading_dataset (person_path):\n",
    "    first = True\n",
    "    df_final = pd.DataFrame\n",
    "    csv_files = os.listdir(person_path)\n",
    "    if len(csv_files) == 4:\n",
    "        csv_files.remove('garbage') #remove 'garbage' file from list\n",
    "    for csv in csv_files:\n",
    "#         print ('------------------------------------------------------',csv,'-------------------------------------------------------------')\n",
    "        df_temp = pd.read_csv(os.path.join(person_path, csv))\n",
    "        state = csv.split('.')[0][-1]\n",
    "        if state == 'e':\n",
    "            state = '1'\n",
    "        elif state == 'n':\n",
    "            state = '2'\n",
    "        else:\n",
    "            state= '3'\n",
    "#         df_temp = df_temp.dropna() # Drop the rows where at least one element is missing.\n",
    "        #---right dataframe-----\n",
    "        if state == '1': # state=alone\n",
    "            df_right = pd.read_csv(r'C:\\Users\\Aviva\\Desktop\\HandRight.csv')\n",
    "            for column in df_right.columns:  # change the columns names\n",
    "                if column != ' Frame ID':\n",
    "                    column_new = column+'_R'\n",
    "                    df_right.columns = df_right.columns.str.replace(column, column_new)\n",
    "        else:\n",
    "            df_right = df_temp[df_temp[' Hand Type'] == 'right']\n",
    "            df_right = df_right.reset_index(drop=True)\n",
    "            for column in df_right.columns:  # change the columns names\n",
    "                if column != ' Frame ID':\n",
    "                    column_new = column+'_R'\n",
    "                    df_right.columns = df_right.columns.str.replace(column, column_new)\n",
    "\n",
    "\n",
    "        #---left dataframe-----\n",
    "        df_left = df_temp[df_temp[' Hand Type'] == 'left'] \n",
    "        df_left = df_left.reset_index(drop=True)\n",
    "        for column in df_left.columns:  # change the columns names\n",
    "            if column != ' Frame ID':\n",
    "                column_new = column+'_L'\n",
    "                df_left.columns = df_left.columns.str.replace(column, column_new)\n",
    "        \n",
    "        #---merge the left and the right hands----\n",
    "        if len(df_right.index) < len(df_left.index) and state=='1': \n",
    "#             if state=='1': # only if state = alone\n",
    "            df_right = duplicate_rows(df_right)  # duplicate rows of 'df_right'\n",
    "        if state != '1':\n",
    "            df_right.set_index(' Frame ID',inplace=True)\n",
    "            df_left.set_index(' Frame ID',inplace=True)\n",
    "            df_temp = pd.merge(df_left, df_right, how='left',on=' Frame ID')\n",
    "#             df_temp = pd.concat([df_left, df_right], axis=1, join=\"inner\")\n",
    "        else:\n",
    "            df_temp = pd.concat([df_left, df_right], axis=1, join=\"inner\")#, ignore_index=True)\n",
    "#--------------------------try---------------------------------------------------------\n",
    "        df_temp = df_temp.dropna() # Drop the rows where at least one element is missing.\n",
    "        df_temp = df_temp.reset_index(drop=True)\n",
    "        df_temp = clean_csv(df_temp, state)\n",
    "#         df_temp = df_temp.reset_index(drop=True)\n",
    "        df_temp = creat_df(df_temp, state)  # Arranges the data in a 'limited way'\n",
    "        if first:\n",
    "            df_final = df_temp\n",
    "            first = False\n",
    "        else:\n",
    "            df_final = pd.concat([df_final,df_temp])\n",
    "    df_final = secend_clean(df_final)\n",
    "    return df_final"
   ]
  },
  {
   "cell_type": "markdown",
   "metadata": {},
   "source": [
    "# Data with a long row:\n",
    "* ### I arranged the data here in this way, every second - every 5 frames I selected a frame and then assembled from the selected frames rows of 5 frames in each row. (Of course in each frame there is the right hand versus the left hand)"
   ]
  },
  {
   "cell_type": "markdown",
   "metadata": {},
   "source": [
    "# Todo: להוסיף תיאור גרפי עם חיצים לשמות של העמודות החדשות בדאטה פריים החדש"
   ]
  },
  {
   "cell_type": "markdown",
   "metadata": {},
   "source": [
    "* # Loading data of the 'long row' dataframe:\n",
    "    * ### I split one of the people into validation to get a good estimate about my model (because I want to see if my model knows how to recognize situations in new people and not in people he already knows ..).\n",
    "    * ### In any case, at the end of the training, I will combine the data train and the validation in order to train the final model with as much data as possible.\n",
    "    * ### I mean, since I do not want to \"lose\" data of an entire person in the experiment, and on the other hand I want good validation, I operate in these two steps. In my opinion, it's better than cross-validation."
   ]
  },
  {
   "cell_type": "code",
   "execution_count": 293,
   "metadata": {},
   "outputs": [
    {
     "data": {
      "text/html": [
       "<div>\n",
       "<style scoped>\n",
       "    .dataframe tbody tr th:only-of-type {\n",
       "        vertical-align: middle;\n",
       "    }\n",
       "\n",
       "    .dataframe tbody tr th {\n",
       "        vertical-align: top;\n",
       "    }\n",
       "\n",
       "    .dataframe thead th {\n",
       "        text-align: right;\n",
       "    }\n",
       "</style>\n",
       "<table border=\"1\" class=\"dataframe\">\n",
       "  <thead>\n",
       "    <tr style=\"text-align: right;\">\n",
       "      <th></th>\n",
       "      <th>Position X_L_0</th>\n",
       "      <th>Position Y_L_0</th>\n",
       "      <th>Position Z_L_0</th>\n",
       "      <th>Velocity X_L_0</th>\n",
       "      <th>Velocity Y_L_0</th>\n",
       "      <th>Velocity Z_L_0</th>\n",
       "      <th>Pitch_L_0</th>\n",
       "      <th>Roll_L_0</th>\n",
       "      <th>Yaw_L_0</th>\n",
       "      <th>Wrist Pos X_L_0</th>\n",
       "      <th>...</th>\n",
       "      <th>Wrist Pos X_R_4</th>\n",
       "      <th>Wrist Pos Y_R_4</th>\n",
       "      <th>Wrist Pos Z_R_4</th>\n",
       "      <th>Elbow pos X_R_4</th>\n",
       "      <th>Elbow Pos Y_R_4</th>\n",
       "      <th>Elbow Pos Z_R_4</th>\n",
       "      <th>Grab Strenth_R_4</th>\n",
       "      <th>Grab Angle_R_4</th>\n",
       "      <th>Pinch Strength_R_4</th>\n",
       "      <th>state</th>\n",
       "    </tr>\n",
       "  </thead>\n",
       "  <tbody>\n",
       "    <tr>\n",
       "      <th>0</th>\n",
       "      <td>-94.57854</td>\n",
       "      <td>215.4532</td>\n",
       "      <td>19.89310</td>\n",
       "      <td>8.389334</td>\n",
       "      <td>-26.21817</td>\n",
       "      <td>1.982191</td>\n",
       "      <td>1.665171</td>\n",
       "      <td>1.176704</td>\n",
       "      <td>1.812953</td>\n",
       "      <td>-122.1663</td>\n",
       "      <td>...</td>\n",
       "      <td>209.209500</td>\n",
       "      <td>218.41930</td>\n",
       "      <td>12.18859</td>\n",
       "      <td>343.70090</td>\n",
       "      <td>44.849830</td>\n",
       "      <td>113.60600</td>\n",
       "      <td>0.978876</td>\n",
       "      <td>2.483436</td>\n",
       "      <td>1.0</td>\n",
       "      <td>3</td>\n",
       "    </tr>\n",
       "    <tr>\n",
       "      <th>1</th>\n",
       "      <td>-72.24569</td>\n",
       "      <td>208.9304</td>\n",
       "      <td>79.36799</td>\n",
       "      <td>-57.891750</td>\n",
       "      <td>-154.76840</td>\n",
       "      <td>-107.791400</td>\n",
       "      <td>1.157942</td>\n",
       "      <td>1.535514</td>\n",
       "      <td>0.960700</td>\n",
       "      <td>-108.1708</td>\n",
       "      <td>...</td>\n",
       "      <td>179.741700</td>\n",
       "      <td>174.73000</td>\n",
       "      <td>139.22530</td>\n",
       "      <td>376.88020</td>\n",
       "      <td>28.162020</td>\n",
       "      <td>215.12250</td>\n",
       "      <td>0.000000</td>\n",
       "      <td>0.129195</td>\n",
       "      <td>0.0</td>\n",
       "      <td>3</td>\n",
       "    </tr>\n",
       "    <tr>\n",
       "      <th>2</th>\n",
       "      <td>-91.73344</td>\n",
       "      <td>193.1066</td>\n",
       "      <td>57.13859</td>\n",
       "      <td>286.353600</td>\n",
       "      <td>-113.90390</td>\n",
       "      <td>-139.498600</td>\n",
       "      <td>1.678531</td>\n",
       "      <td>1.093249</td>\n",
       "      <td>1.796540</td>\n",
       "      <td>-126.2010</td>\n",
       "      <td>...</td>\n",
       "      <td>133.760500</td>\n",
       "      <td>173.09500</td>\n",
       "      <td>92.14190</td>\n",
       "      <td>311.71160</td>\n",
       "      <td>-7.980026</td>\n",
       "      <td>94.87241</td>\n",
       "      <td>0.000000</td>\n",
       "      <td>0.117160</td>\n",
       "      <td>0.0</td>\n",
       "      <td>3</td>\n",
       "    </tr>\n",
       "    <tr>\n",
       "      <th>3</th>\n",
       "      <td>-77.05654</td>\n",
       "      <td>221.2951</td>\n",
       "      <td>40.22058</td>\n",
       "      <td>-10.412690</td>\n",
       "      <td>-279.06480</td>\n",
       "      <td>-235.090800</td>\n",
       "      <td>1.091910</td>\n",
       "      <td>0.737945</td>\n",
       "      <td>0.594498</td>\n",
       "      <td>-108.5223</td>\n",
       "      <td>...</td>\n",
       "      <td>154.123700</td>\n",
       "      <td>165.36680</td>\n",
       "      <td>66.79716</td>\n",
       "      <td>373.48410</td>\n",
       "      <td>129.318600</td>\n",
       "      <td>143.89890</td>\n",
       "      <td>0.000000</td>\n",
       "      <td>0.436552</td>\n",
       "      <td>0.0</td>\n",
       "      <td>2</td>\n",
       "    </tr>\n",
       "    <tr>\n",
       "      <th>4</th>\n",
       "      <td>-136.28680</td>\n",
       "      <td>234.6370</td>\n",
       "      <td>50.40171</td>\n",
       "      <td>-19.062560</td>\n",
       "      <td>141.57370</td>\n",
       "      <td>95.500470</td>\n",
       "      <td>1.128105</td>\n",
       "      <td>0.975531</td>\n",
       "      <td>1.119839</td>\n",
       "      <td>-184.4100</td>\n",
       "      <td>...</td>\n",
       "      <td>96.875050</td>\n",
       "      <td>192.54750</td>\n",
       "      <td>42.71945</td>\n",
       "      <td>266.48830</td>\n",
       "      <td>13.689180</td>\n",
       "      <td>15.00348</td>\n",
       "      <td>0.000000</td>\n",
       "      <td>0.000000</td>\n",
       "      <td>0.0</td>\n",
       "      <td>3</td>\n",
       "    </tr>\n",
       "    <tr>\n",
       "      <th>...</th>\n",
       "      <td>...</td>\n",
       "      <td>...</td>\n",
       "      <td>...</td>\n",
       "      <td>...</td>\n",
       "      <td>...</td>\n",
       "      <td>...</td>\n",
       "      <td>...</td>\n",
       "      <td>...</td>\n",
       "      <td>...</td>\n",
       "      <td>...</td>\n",
       "      <td>...</td>\n",
       "      <td>...</td>\n",
       "      <td>...</td>\n",
       "      <td>...</td>\n",
       "      <td>...</td>\n",
       "      <td>...</td>\n",
       "      <td>...</td>\n",
       "      <td>...</td>\n",
       "      <td>...</td>\n",
       "      <td>...</td>\n",
       "      <td>...</td>\n",
       "    </tr>\n",
       "    <tr>\n",
       "      <th>2934</th>\n",
       "      <td>-145.54470</td>\n",
       "      <td>191.6127</td>\n",
       "      <td>88.95920</td>\n",
       "      <td>144.919000</td>\n",
       "      <td>-241.68090</td>\n",
       "      <td>-608.102700</td>\n",
       "      <td>-1.576873</td>\n",
       "      <td>-0.362556</td>\n",
       "      <td>1.573097</td>\n",
       "      <td>-205.9539</td>\n",
       "      <td>...</td>\n",
       "      <td>182.815900</td>\n",
       "      <td>145.71810</td>\n",
       "      <td>139.32500</td>\n",
       "      <td>354.24580</td>\n",
       "      <td>57.719600</td>\n",
       "      <td>269.01100</td>\n",
       "      <td>0.000000</td>\n",
       "      <td>0.185255</td>\n",
       "      <td>0.0</td>\n",
       "      <td>2</td>\n",
       "    </tr>\n",
       "    <tr>\n",
       "      <th>2935</th>\n",
       "      <td>-59.31765</td>\n",
       "      <td>154.0351</td>\n",
       "      <td>26.98823</td>\n",
       "      <td>-8.634696</td>\n",
       "      <td>-185.03980</td>\n",
       "      <td>-117.505100</td>\n",
       "      <td>0.516202</td>\n",
       "      <td>0.182560</td>\n",
       "      <td>1.185433</td>\n",
       "      <td>-124.1486</td>\n",
       "      <td>...</td>\n",
       "      <td>5.735185</td>\n",
       "      <td>161.90320</td>\n",
       "      <td>117.35960</td>\n",
       "      <td>153.39880</td>\n",
       "      <td>32.422520</td>\n",
       "      <td>305.75240</td>\n",
       "      <td>0.000000</td>\n",
       "      <td>0.191291</td>\n",
       "      <td>0.0</td>\n",
       "      <td>1</td>\n",
       "    </tr>\n",
       "    <tr>\n",
       "      <th>2936</th>\n",
       "      <td>-150.33660</td>\n",
       "      <td>315.3776</td>\n",
       "      <td>129.03300</td>\n",
       "      <td>-23.240920</td>\n",
       "      <td>116.36670</td>\n",
       "      <td>-29.915490</td>\n",
       "      <td>1.572567</td>\n",
       "      <td>1.181955</td>\n",
       "      <td>1.575116</td>\n",
       "      <td>-183.4267</td>\n",
       "      <td>...</td>\n",
       "      <td>195.723800</td>\n",
       "      <td>155.86830</td>\n",
       "      <td>87.76389</td>\n",
       "      <td>411.21280</td>\n",
       "      <td>55.348530</td>\n",
       "      <td>189.55560</td>\n",
       "      <td>0.000000</td>\n",
       "      <td>0.101435</td>\n",
       "      <td>0.0</td>\n",
       "      <td>2</td>\n",
       "    </tr>\n",
       "    <tr>\n",
       "      <th>2937</th>\n",
       "      <td>-101.32700</td>\n",
       "      <td>203.5821</td>\n",
       "      <td>-22.62835</td>\n",
       "      <td>-41.874320</td>\n",
       "      <td>-97.09596</td>\n",
       "      <td>-109.481000</td>\n",
       "      <td>1.049534</td>\n",
       "      <td>1.174964</td>\n",
       "      <td>0.368343</td>\n",
       "      <td>-125.5019</td>\n",
       "      <td>...</td>\n",
       "      <td>37.183050</td>\n",
       "      <td>262.64610</td>\n",
       "      <td>103.24330</td>\n",
       "      <td>202.91770</td>\n",
       "      <td>183.100700</td>\n",
       "      <td>303.58310</td>\n",
       "      <td>0.000000</td>\n",
       "      <td>0.906416</td>\n",
       "      <td>0.0</td>\n",
       "      <td>1</td>\n",
       "    </tr>\n",
       "    <tr>\n",
       "      <th>2938</th>\n",
       "      <td>-124.41990</td>\n",
       "      <td>241.2209</td>\n",
       "      <td>-76.22336</td>\n",
       "      <td>-122.828300</td>\n",
       "      <td>364.93010</td>\n",
       "      <td>115.766100</td>\n",
       "      <td>1.280154</td>\n",
       "      <td>0.797094</td>\n",
       "      <td>1.239546</td>\n",
       "      <td>-171.4230</td>\n",
       "      <td>...</td>\n",
       "      <td>23.457240</td>\n",
       "      <td>80.34122</td>\n",
       "      <td>73.35487</td>\n",
       "      <td>49.52925</td>\n",
       "      <td>10.417320</td>\n",
       "      <td>335.56630</td>\n",
       "      <td>0.698875</td>\n",
       "      <td>2.697962</td>\n",
       "      <td>0.0</td>\n",
       "      <td>1</td>\n",
       "    </tr>\n",
       "  </tbody>\n",
       "</table>\n",
       "<p>2939 rows × 181 columns</p>\n",
       "</div>"
      ],
      "text/plain": [
       "       Position X_L_0   Position Y_L_0   Position Z_L_0   Velocity X_L_0  \\\n",
       "0           -94.57854         215.4532         19.89310         8.389334   \n",
       "1           -72.24569         208.9304         79.36799       -57.891750   \n",
       "2           -91.73344         193.1066         57.13859       286.353600   \n",
       "3           -77.05654         221.2951         40.22058       -10.412690   \n",
       "4          -136.28680         234.6370         50.40171       -19.062560   \n",
       "...               ...              ...              ...              ...   \n",
       "2934       -145.54470         191.6127         88.95920       144.919000   \n",
       "2935        -59.31765         154.0351         26.98823        -8.634696   \n",
       "2936       -150.33660         315.3776        129.03300       -23.240920   \n",
       "2937       -101.32700         203.5821        -22.62835       -41.874320   \n",
       "2938       -124.41990         241.2209        -76.22336      -122.828300   \n",
       "\n",
       "       Velocity Y_L_0   Velocity Z_L_0   Pitch_L_0   Roll_L_0   Yaw_L_0  \\\n",
       "0           -26.21817         1.982191    1.665171   1.176704  1.812953   \n",
       "1          -154.76840      -107.791400    1.157942   1.535514  0.960700   \n",
       "2          -113.90390      -139.498600    1.678531   1.093249  1.796540   \n",
       "3          -279.06480      -235.090800    1.091910   0.737945  0.594498   \n",
       "4           141.57370        95.500470    1.128105   0.975531  1.119839   \n",
       "...               ...              ...         ...        ...       ...   \n",
       "2934       -241.68090      -608.102700   -1.576873  -0.362556  1.573097   \n",
       "2935       -185.03980      -117.505100    0.516202   0.182560  1.185433   \n",
       "2936        116.36670       -29.915490    1.572567   1.181955  1.575116   \n",
       "2937        -97.09596      -109.481000    1.049534   1.174964  0.368343   \n",
       "2938        364.93010       115.766100    1.280154   0.797094  1.239546   \n",
       "\n",
       "       Wrist Pos X_L_0  ...   Wrist Pos X_R_4   Wrist Pos Y_R_4  \\\n",
       "0            -122.1663  ...        209.209500         218.41930   \n",
       "1            -108.1708  ...        179.741700         174.73000   \n",
       "2            -126.2010  ...        133.760500         173.09500   \n",
       "3            -108.5223  ...        154.123700         165.36680   \n",
       "4            -184.4100  ...         96.875050         192.54750   \n",
       "...                ...  ...               ...               ...   \n",
       "2934         -205.9539  ...        182.815900         145.71810   \n",
       "2935         -124.1486  ...          5.735185         161.90320   \n",
       "2936         -183.4267  ...        195.723800         155.86830   \n",
       "2937         -125.5019  ...         37.183050         262.64610   \n",
       "2938         -171.4230  ...         23.457240          80.34122   \n",
       "\n",
       "       Wrist Pos Z_R_4   Elbow pos X_R_4   Elbow Pos Y_R_4   Elbow Pos Z_R_4  \\\n",
       "0             12.18859         343.70090         44.849830         113.60600   \n",
       "1            139.22530         376.88020         28.162020         215.12250   \n",
       "2             92.14190         311.71160         -7.980026          94.87241   \n",
       "3             66.79716         373.48410        129.318600         143.89890   \n",
       "4             42.71945         266.48830         13.689180          15.00348   \n",
       "...                ...               ...               ...               ...   \n",
       "2934         139.32500         354.24580         57.719600         269.01100   \n",
       "2935         117.35960         153.39880         32.422520         305.75240   \n",
       "2936          87.76389         411.21280         55.348530         189.55560   \n",
       "2937         103.24330         202.91770        183.100700         303.58310   \n",
       "2938          73.35487          49.52925         10.417320         335.56630   \n",
       "\n",
       "       Grab Strenth_R_4   Grab Angle_R_4   Pinch Strength_R_4  state  \n",
       "0              0.978876         2.483436                  1.0      3  \n",
       "1              0.000000         0.129195                  0.0      3  \n",
       "2              0.000000         0.117160                  0.0      3  \n",
       "3              0.000000         0.436552                  0.0      2  \n",
       "4              0.000000         0.000000                  0.0      3  \n",
       "...                 ...              ...                  ...    ...  \n",
       "2934           0.000000         0.185255                  0.0      2  \n",
       "2935           0.000000         0.191291                  0.0      1  \n",
       "2936           0.000000         0.101435                  0.0      2  \n",
       "2937           0.000000         0.906416                  0.0      1  \n",
       "2938           0.698875         2.697962                  0.0      1  \n",
       "\n",
       "[2939 rows x 181 columns]"
      ]
     },
     "execution_count": 293,
     "metadata": {},
     "output_type": "execute_result"
    }
   ],
   "source": [
    "first = True\n",
    "for name in names:\n",
    "    if name != 'Evyatar Cohen':\n",
    "        person_path = os.path.join(train_dir, name)\n",
    "        df_person = Loading_dataset(person_path)\n",
    "        if first:\n",
    "            df = df_person\n",
    "            first = False\n",
    "        else:\n",
    "            df = pd.concat([df,df_person])\n",
    "df = shuffle(df)\n",
    "df = df.reset_index(drop=True)\n",
    "df"
   ]
  },
  {
   "cell_type": "code",
   "execution_count": 294,
   "metadata": {},
   "outputs": [
    {
     "data": {
      "text/html": [
       "<div>\n",
       "<style scoped>\n",
       "    .dataframe tbody tr th:only-of-type {\n",
       "        vertical-align: middle;\n",
       "    }\n",
       "\n",
       "    .dataframe tbody tr th {\n",
       "        vertical-align: top;\n",
       "    }\n",
       "\n",
       "    .dataframe thead th {\n",
       "        text-align: right;\n",
       "    }\n",
       "</style>\n",
       "<table border=\"1\" class=\"dataframe\">\n",
       "  <thead>\n",
       "    <tr style=\"text-align: right;\">\n",
       "      <th></th>\n",
       "      <th>Position X_L_0</th>\n",
       "      <th>Position Y_L_0</th>\n",
       "      <th>Position Z_L_0</th>\n",
       "      <th>Velocity X_L_0</th>\n",
       "      <th>Velocity Y_L_0</th>\n",
       "      <th>Velocity Z_L_0</th>\n",
       "      <th>Pitch_L_0</th>\n",
       "      <th>Roll_L_0</th>\n",
       "      <th>Yaw_L_0</th>\n",
       "      <th>Wrist Pos X_L_0</th>\n",
       "      <th>...</th>\n",
       "      <th>Wrist Pos X_R_4</th>\n",
       "      <th>Wrist Pos Y_R_4</th>\n",
       "      <th>Wrist Pos Z_R_4</th>\n",
       "      <th>Elbow pos X_R_4</th>\n",
       "      <th>Elbow Pos Y_R_4</th>\n",
       "      <th>Elbow Pos Z_R_4</th>\n",
       "      <th>Grab Strenth_R_4</th>\n",
       "      <th>Grab Angle_R_4</th>\n",
       "      <th>Pinch Strength_R_4</th>\n",
       "      <th>state</th>\n",
       "    </tr>\n",
       "  </thead>\n",
       "  <tbody>\n",
       "    <tr>\n",
       "      <th>0</th>\n",
       "      <td>-53.12899</td>\n",
       "      <td>221.6321</td>\n",
       "      <td>16.96612</td>\n",
       "      <td>218.207800</td>\n",
       "      <td>106.41990</td>\n",
       "      <td>104.918800</td>\n",
       "      <td>1.215197</td>\n",
       "      <td>3.096688</td>\n",
       "      <td>1.393913</td>\n",
       "      <td>-111.9222</td>\n",
       "      <td>...</td>\n",
       "      <td>30.99154</td>\n",
       "      <td>105.94760</td>\n",
       "      <td>171.018600</td>\n",
       "      <td>137.69570</td>\n",
       "      <td>-73.50108</td>\n",
       "      <td>349.02690</td>\n",
       "      <td>0.000000</td>\n",
       "      <td>0.207978</td>\n",
       "      <td>0.0</td>\n",
       "      <td>1</td>\n",
       "    </tr>\n",
       "    <tr>\n",
       "      <th>1</th>\n",
       "      <td>-76.08595</td>\n",
       "      <td>221.3262</td>\n",
       "      <td>40.85015</td>\n",
       "      <td>339.233100</td>\n",
       "      <td>31.50728</td>\n",
       "      <td>-20.386450</td>\n",
       "      <td>1.379455</td>\n",
       "      <td>1.177916</td>\n",
       "      <td>1.170743</td>\n",
       "      <td>-109.8722</td>\n",
       "      <td>...</td>\n",
       "      <td>207.76680</td>\n",
       "      <td>146.56030</td>\n",
       "      <td>67.296950</td>\n",
       "      <td>347.76470</td>\n",
       "      <td>-22.25645</td>\n",
       "      <td>183.02940</td>\n",
       "      <td>0.000000</td>\n",
       "      <td>0.000000</td>\n",
       "      <td>0.0</td>\n",
       "      <td>3</td>\n",
       "    </tr>\n",
       "    <tr>\n",
       "      <th>2</th>\n",
       "      <td>-69.71333</td>\n",
       "      <td>175.9683</td>\n",
       "      <td>32.57231</td>\n",
       "      <td>7.060838</td>\n",
       "      <td>-108.82070</td>\n",
       "      <td>15.995810</td>\n",
       "      <td>-1.662337</td>\n",
       "      <td>-0.351641</td>\n",
       "      <td>1.603894</td>\n",
       "      <td>-136.0209</td>\n",
       "      <td>...</td>\n",
       "      <td>43.94626</td>\n",
       "      <td>204.67930</td>\n",
       "      <td>185.403500</td>\n",
       "      <td>205.43430</td>\n",
       "      <td>90.84534</td>\n",
       "      <td>376.53020</td>\n",
       "      <td>0.000000</td>\n",
       "      <td>0.507421</td>\n",
       "      <td>0.0</td>\n",
       "      <td>1</td>\n",
       "    </tr>\n",
       "    <tr>\n",
       "      <th>3</th>\n",
       "      <td>-103.46540</td>\n",
       "      <td>251.1612</td>\n",
       "      <td>61.04182</td>\n",
       "      <td>-234.727600</td>\n",
       "      <td>30.07948</td>\n",
       "      <td>129.038600</td>\n",
       "      <td>1.402163</td>\n",
       "      <td>1.594036</td>\n",
       "      <td>0.156816</td>\n",
       "      <td>-114.0878</td>\n",
       "      <td>...</td>\n",
       "      <td>21.53527</td>\n",
       "      <td>62.26411</td>\n",
       "      <td>160.272100</td>\n",
       "      <td>85.97986</td>\n",
       "      <td>-119.37900</td>\n",
       "      <td>353.45240</td>\n",
       "      <td>0.000000</td>\n",
       "      <td>0.763131</td>\n",
       "      <td>0.0</td>\n",
       "      <td>1</td>\n",
       "    </tr>\n",
       "    <tr>\n",
       "      <th>4</th>\n",
       "      <td>-75.14440</td>\n",
       "      <td>176.8811</td>\n",
       "      <td>13.71987</td>\n",
       "      <td>41.733600</td>\n",
       "      <td>-57.37578</td>\n",
       "      <td>29.484330</td>\n",
       "      <td>0.876908</td>\n",
       "      <td>0.713068</td>\n",
       "      <td>0.912342</td>\n",
       "      <td>-126.8535</td>\n",
       "      <td>...</td>\n",
       "      <td>152.13900</td>\n",
       "      <td>280.25770</td>\n",
       "      <td>18.829790</td>\n",
       "      <td>294.98640</td>\n",
       "      <td>94.14623</td>\n",
       "      <td>94.90121</td>\n",
       "      <td>0.173344</td>\n",
       "      <td>1.235786</td>\n",
       "      <td>0.0</td>\n",
       "      <td>2</td>\n",
       "    </tr>\n",
       "    <tr>\n",
       "      <th>...</th>\n",
       "      <td>...</td>\n",
       "      <td>...</td>\n",
       "      <td>...</td>\n",
       "      <td>...</td>\n",
       "      <td>...</td>\n",
       "      <td>...</td>\n",
       "      <td>...</td>\n",
       "      <td>...</td>\n",
       "      <td>...</td>\n",
       "      <td>...</td>\n",
       "      <td>...</td>\n",
       "      <td>...</td>\n",
       "      <td>...</td>\n",
       "      <td>...</td>\n",
       "      <td>...</td>\n",
       "      <td>...</td>\n",
       "      <td>...</td>\n",
       "      <td>...</td>\n",
       "      <td>...</td>\n",
       "      <td>...</td>\n",
       "      <td>...</td>\n",
       "    </tr>\n",
       "    <tr>\n",
       "      <th>397</th>\n",
       "      <td>-107.62190</td>\n",
       "      <td>183.0622</td>\n",
       "      <td>34.17542</td>\n",
       "      <td>11.403470</td>\n",
       "      <td>-138.71350</td>\n",
       "      <td>-42.331300</td>\n",
       "      <td>1.142277</td>\n",
       "      <td>0.646565</td>\n",
       "      <td>1.270051</td>\n",
       "      <td>-166.6059</td>\n",
       "      <td>...</td>\n",
       "      <td>183.18490</td>\n",
       "      <td>231.42580</td>\n",
       "      <td>5.514973</td>\n",
       "      <td>347.15580</td>\n",
       "      <td>82.95963</td>\n",
       "      <td>113.94810</td>\n",
       "      <td>0.000000</td>\n",
       "      <td>0.780147</td>\n",
       "      <td>0.0</td>\n",
       "      <td>2</td>\n",
       "    </tr>\n",
       "    <tr>\n",
       "      <th>398</th>\n",
       "      <td>-69.50400</td>\n",
       "      <td>158.0476</td>\n",
       "      <td>23.15240</td>\n",
       "      <td>75.995350</td>\n",
       "      <td>-215.31680</td>\n",
       "      <td>-81.444040</td>\n",
       "      <td>1.676053</td>\n",
       "      <td>0.736093</td>\n",
       "      <td>1.666515</td>\n",
       "      <td>-123.4935</td>\n",
       "      <td>...</td>\n",
       "      <td>202.56200</td>\n",
       "      <td>169.89630</td>\n",
       "      <td>31.276680</td>\n",
       "      <td>318.99390</td>\n",
       "      <td>-14.47120</td>\n",
       "      <td>152.56200</td>\n",
       "      <td>0.000000</td>\n",
       "      <td>1.026670</td>\n",
       "      <td>0.0</td>\n",
       "      <td>2</td>\n",
       "    </tr>\n",
       "    <tr>\n",
       "      <th>399</th>\n",
       "      <td>-91.85532</td>\n",
       "      <td>139.5847</td>\n",
       "      <td>53.00816</td>\n",
       "      <td>-81.049300</td>\n",
       "      <td>112.26360</td>\n",
       "      <td>-82.042390</td>\n",
       "      <td>1.491645</td>\n",
       "      <td>0.945818</td>\n",
       "      <td>1.465850</td>\n",
       "      <td>-136.7064</td>\n",
       "      <td>...</td>\n",
       "      <td>81.57523</td>\n",
       "      <td>187.04490</td>\n",
       "      <td>46.946010</td>\n",
       "      <td>264.93590</td>\n",
       "      <td>26.71767</td>\n",
       "      <td>93.49277</td>\n",
       "      <td>0.000000</td>\n",
       "      <td>0.048005</td>\n",
       "      <td>0.0</td>\n",
       "      <td>3</td>\n",
       "    </tr>\n",
       "    <tr>\n",
       "      <th>400</th>\n",
       "      <td>-103.08750</td>\n",
       "      <td>167.0353</td>\n",
       "      <td>113.45790</td>\n",
       "      <td>-15.369540</td>\n",
       "      <td>-4.44199</td>\n",
       "      <td>4.723602</td>\n",
       "      <td>1.912296</td>\n",
       "      <td>1.078938</td>\n",
       "      <td>2.159243</td>\n",
       "      <td>-138.2409</td>\n",
       "      <td>...</td>\n",
       "      <td>183.99920</td>\n",
       "      <td>170.27300</td>\n",
       "      <td>70.875160</td>\n",
       "      <td>340.16480</td>\n",
       "      <td>-23.07634</td>\n",
       "      <td>102.14360</td>\n",
       "      <td>0.000000</td>\n",
       "      <td>0.027615</td>\n",
       "      <td>0.0</td>\n",
       "      <td>3</td>\n",
       "    </tr>\n",
       "    <tr>\n",
       "      <th>401</th>\n",
       "      <td>-76.78509</td>\n",
       "      <td>196.5337</td>\n",
       "      <td>43.63573</td>\n",
       "      <td>-128.995600</td>\n",
       "      <td>358.93700</td>\n",
       "      <td>-20.711890</td>\n",
       "      <td>1.232148</td>\n",
       "      <td>1.112809</td>\n",
       "      <td>1.081948</td>\n",
       "      <td>-119.6899</td>\n",
       "      <td>...</td>\n",
       "      <td>234.34320</td>\n",
       "      <td>195.38690</td>\n",
       "      <td>48.281350</td>\n",
       "      <td>361.05020</td>\n",
       "      <td>-17.02836</td>\n",
       "      <td>97.89048</td>\n",
       "      <td>0.000000</td>\n",
       "      <td>0.000000</td>\n",
       "      <td>0.0</td>\n",
       "      <td>3</td>\n",
       "    </tr>\n",
       "  </tbody>\n",
       "</table>\n",
       "<p>402 rows × 181 columns</p>\n",
       "</div>"
      ],
      "text/plain": [
       "      Position X_L_0   Position Y_L_0   Position Z_L_0   Velocity X_L_0  \\\n",
       "0          -53.12899         221.6321         16.96612       218.207800   \n",
       "1          -76.08595         221.3262         40.85015       339.233100   \n",
       "2          -69.71333         175.9683         32.57231         7.060838   \n",
       "3         -103.46540         251.1612         61.04182      -234.727600   \n",
       "4          -75.14440         176.8811         13.71987        41.733600   \n",
       "..               ...              ...              ...              ...   \n",
       "397       -107.62190         183.0622         34.17542        11.403470   \n",
       "398        -69.50400         158.0476         23.15240        75.995350   \n",
       "399        -91.85532         139.5847         53.00816       -81.049300   \n",
       "400       -103.08750         167.0353        113.45790       -15.369540   \n",
       "401        -76.78509         196.5337         43.63573      -128.995600   \n",
       "\n",
       "      Velocity Y_L_0   Velocity Z_L_0   Pitch_L_0   Roll_L_0   Yaw_L_0  \\\n",
       "0          106.41990       104.918800    1.215197   3.096688  1.393913   \n",
       "1           31.50728       -20.386450    1.379455   1.177916  1.170743   \n",
       "2         -108.82070        15.995810   -1.662337  -0.351641  1.603894   \n",
       "3           30.07948       129.038600    1.402163   1.594036  0.156816   \n",
       "4          -57.37578        29.484330    0.876908   0.713068  0.912342   \n",
       "..               ...              ...         ...        ...       ...   \n",
       "397       -138.71350       -42.331300    1.142277   0.646565  1.270051   \n",
       "398       -215.31680       -81.444040    1.676053   0.736093  1.666515   \n",
       "399        112.26360       -82.042390    1.491645   0.945818  1.465850   \n",
       "400         -4.44199         4.723602    1.912296   1.078938  2.159243   \n",
       "401        358.93700       -20.711890    1.232148   1.112809  1.081948   \n",
       "\n",
       "      Wrist Pos X_L_0  ...   Wrist Pos X_R_4   Wrist Pos Y_R_4  \\\n",
       "0           -111.9222  ...          30.99154         105.94760   \n",
       "1           -109.8722  ...         207.76680         146.56030   \n",
       "2           -136.0209  ...          43.94626         204.67930   \n",
       "3           -114.0878  ...          21.53527          62.26411   \n",
       "4           -126.8535  ...         152.13900         280.25770   \n",
       "..                ...  ...               ...               ...   \n",
       "397         -166.6059  ...         183.18490         231.42580   \n",
       "398         -123.4935  ...         202.56200         169.89630   \n",
       "399         -136.7064  ...          81.57523         187.04490   \n",
       "400         -138.2409  ...         183.99920         170.27300   \n",
       "401         -119.6899  ...         234.34320         195.38690   \n",
       "\n",
       "      Wrist Pos Z_R_4   Elbow pos X_R_4   Elbow Pos Y_R_4   Elbow Pos Z_R_4  \\\n",
       "0          171.018600         137.69570         -73.50108         349.02690   \n",
       "1           67.296950         347.76470         -22.25645         183.02940   \n",
       "2          185.403500         205.43430          90.84534         376.53020   \n",
       "3          160.272100          85.97986        -119.37900         353.45240   \n",
       "4           18.829790         294.98640          94.14623          94.90121   \n",
       "..                ...               ...               ...               ...   \n",
       "397          5.514973         347.15580          82.95963         113.94810   \n",
       "398         31.276680         318.99390         -14.47120         152.56200   \n",
       "399         46.946010         264.93590          26.71767          93.49277   \n",
       "400         70.875160         340.16480         -23.07634         102.14360   \n",
       "401         48.281350         361.05020         -17.02836          97.89048   \n",
       "\n",
       "      Grab Strenth_R_4   Grab Angle_R_4   Pinch Strength_R_4  state  \n",
       "0             0.000000         0.207978                  0.0      1  \n",
       "1             0.000000         0.000000                  0.0      3  \n",
       "2             0.000000         0.507421                  0.0      1  \n",
       "3             0.000000         0.763131                  0.0      1  \n",
       "4             0.173344         1.235786                  0.0      2  \n",
       "..                 ...              ...                  ...    ...  \n",
       "397           0.000000         0.780147                  0.0      2  \n",
       "398           0.000000         1.026670                  0.0      2  \n",
       "399           0.000000         0.048005                  0.0      3  \n",
       "400           0.000000         0.027615                  0.0      3  \n",
       "401           0.000000         0.000000                  0.0      3  \n",
       "\n",
       "[402 rows x 181 columns]"
      ]
     },
     "execution_count": 294,
     "metadata": {},
     "output_type": "execute_result"
    }
   ],
   "source": [
    "# Loading data validtion:\n",
    "person_path = os.path.join(train_dir, 'Evyatar Cohen')\n",
    "df_valid = Loading_dataset(person_path)\n",
    "df_valid = shuffle(df_valid)\n",
    "df_valid = df_valid.reset_index(drop=True)\n",
    "df_valid"
   ]
  },
  {
   "cell_type": "code",
   "execution_count": 295,
   "metadata": {},
   "outputs": [
    {
     "data": {
      "text/plain": [
       "0"
      ]
     },
     "execution_count": 295,
     "metadata": {},
     "output_type": "execute_result"
    }
   ],
   "source": [
    "# We can see that there are no Null values in 'df_valid'\n",
    "\n",
    "df_valid.isnull().sum().sum()"
   ]
  },
  {
   "cell_type": "code",
   "execution_count": 296,
   "metadata": {},
   "outputs": [
    {
     "data": {
      "text/plain": [
       "0"
      ]
     },
     "execution_count": 296,
     "metadata": {},
     "output_type": "execute_result"
    }
   ],
   "source": [
    "# We can see that there are no Null values in the DF\n",
    "\n",
    "df.isnull().sum().sum()"
   ]
  },
  {
   "cell_type": "code",
   "execution_count": 297,
   "metadata": {},
   "outputs": [
    {
     "data": {
      "text/plain": [
       "(402, 181)"
      ]
     },
     "execution_count": 297,
     "metadata": {},
     "output_type": "execute_result"
    }
   ],
   "source": [
    "df_valid.shape"
   ]
  },
  {
   "cell_type": "code",
   "execution_count": 298,
   "metadata": {},
   "outputs": [
    {
     "data": {
      "text/plain": [
       "(2939, 181)"
      ]
     },
     "execution_count": 298,
     "metadata": {},
     "output_type": "execute_result"
    }
   ],
   "source": [
    "df.shape"
   ]
  },
  {
   "cell_type": "code",
   "execution_count": 299,
   "metadata": {},
   "outputs": [
    {
     "data": {
      "text/plain": [
       "True"
      ]
     },
     "execution_count": 299,
     "metadata": {},
     "output_type": "execute_result"
    }
   ],
   "source": [
    "df_valid.index.is_unique"
   ]
  },
  {
   "cell_type": "code",
   "execution_count": 300,
   "metadata": {},
   "outputs": [
    {
     "data": {
      "text/plain": [
       "True"
      ]
     },
     "execution_count": 300,
     "metadata": {},
     "output_type": "execute_result"
    }
   ],
   "source": [
    "df.index.is_unique"
   ]
  },
  {
   "cell_type": "code",
   "execution_count": 165,
   "metadata": {},
   "outputs": [
    {
     "name": "stdout",
     "output_type": "stream",
     "text": [
      "\u001b[1m \u001b[4m \u001b[94m It can be seen that the amount of the different positions of the hands are balanced: \u001b[0m\n"
     ]
    },
    {
     "data": {
      "text/plain": [
       "<matplotlib.axes._subplots.AxesSubplot at 0x244e45a84c0>"
      ]
     },
     "execution_count": 165,
     "metadata": {},
     "output_type": "execute_result"
    },
    {
     "data": {
      "image/png": "[encoded data removed]",
      "text/plain": [
       "<Figure size 432x288 with 1 Axes>"
      ]
     },
     "metadata": {
      "needs_background": "light"
     },
     "output_type": "display_data"
    }
   ],
   "source": [
    "print (color.BOLD, color.UNDERLINE, color.BLUE,\"It can be seen that the amount of the different positions of the hands are balanced:\",\n",
    "      color.END)\n",
    "df['state'].value_counts().plot.bar()"
   ]
  },
  {
   "cell_type": "code",
   "execution_count": 301,
   "metadata": {},
   "outputs": [
    {
     "data": {
      "text/plain": [
       "(402, 180)"
      ]
     },
     "execution_count": 301,
     "metadata": {},
     "output_type": "execute_result"
    }
   ],
   "source": [
    "y_valid = df_valid['state']\n",
    "X_valid = df_valid.drop(\"state\",axis=1)\n",
    "\n",
    "X_valid.shape"
   ]
  },
  {
   "cell_type": "code",
   "execution_count": 302,
   "metadata": {},
   "outputs": [
    {
     "data": {
      "text/plain": [
       "(2939, 180)"
      ]
     },
     "execution_count": 302,
     "metadata": {},
     "output_type": "execute_result"
    }
   ],
   "source": [
    "y_train = df['state']\n",
    "X_train = df.drop(\"state\",axis=1)\n",
    "\n",
    "X_train.shape"
   ]
  },
  {
   "cell_type": "code",
   "execution_count": null,
   "metadata": {},
   "outputs": [],
   "source": []
  },
  {
   "cell_type": "markdown",
   "metadata": {},
   "source": [
    "* ### We will now look at the effect of PCA on understanding data in order to know how much to reduce the data:"
   ]
  },
  {
   "cell_type": "code",
   "execution_count": 328,
   "metadata": {},
   "outputs": [
    {
     "data": {
      "text/plain": [
       "(2939, 180)"
      ]
     },
     "execution_count": 328,
     "metadata": {},
     "output_type": "execute_result"
    },
    {
     "data": {
      "image/png": "[encoded data removed]",
      "text/plain": [
       "<Figure size 432x288 with 1 Axes>"
      ]
     },
     "metadata": {
      "needs_background": "light"
     },
     "output_type": "display_data"
    }
   ],
   "source": [
    "#First we have to normalize features:\n",
    "scaler = StandardScaler()\n",
    "X_train_sc = scaler.fit_transform(X_train)\n",
    "\n",
    "pca = PCA(n_components = 180, random_state=42)\n",
    "X_reduced_180 = pca.fit_transform(X_train_sc)\n",
    "\n",
    "\n",
    "#Plot Component-wise and Cumulative Explained Variance:\n",
    "plt.subplot(1, 1, 1)\n",
    "plt.plot(range(180), np.cumsum(pca.explained_variance_ratio_))\n",
    "plt.title(\"Component-wise and Cumulative Explained Variance\", fontsize=10)\n",
    "\n",
    "\n",
    "X_reduced_180.shape"
   ]
  },
  {
   "cell_type": "markdown",
   "metadata": {},
   "source": [
    "* ### As we can see even in only 50 dimensions we get a pretty good understanding of the data, we will use this information later when we want to reduce the data"
   ]
  },
  {
   "cell_type": "markdown",
   "metadata": {},
   "source": [
    "# Training a model\n"
   ]
  },
  {
   "cell_type": "code",
   "execution_count": 169,
   "metadata": {},
   "outputs": [],
   "source": [
    "# Creates list for the following graphs:\n",
    "retained_variance = np.linspace(0.65, 1, num=8)\n",
    "num_components = []\n",
    "for RV in retained_variance:\n",
    "    if RV == 1:  # take all the components\n",
    "        num_components.append(180)\n",
    "    else:\n",
    "        pca = PCA(n_components = RV, random_state=42)\n",
    "        X_reduced = pca.fit_transform(X_train_sc)\n",
    "        num_components.append(X_reduced.shape[1])"
   ]
  },
  {
   "cell_type": "markdown",
   "metadata": {},
   "source": [
    "### Logistic Regression\n",
    "* #### We now want to understand whether or not the reduction of the dimension help to get a better model\n",
    "* #### So let's try Logistic Regression PCA with a retained variance of between 0.65 and 1 (meaning, without PCA)"
   ]
  },
  {
   "cell_type": "code",
   "execution_count": 170,
   "metadata": {},
   "outputs": [],
   "source": [
    "#---------------Logistic Regression with PCA-----------------------\n",
    "retained_variance = np.linspace(0.65, 1, num=8)\n",
    "accuracy_LG = []\n",
    "\n",
    "for RV in retained_variance:\n",
    "    if RV == 1:  # take all the components\n",
    "        pipe_LG_PCA = Pipeline([\n",
    "        (\"scale\", StandardScaler()),\n",
    "        ('lg_clf', LogisticRegression(multi_class='ovr',max_iter=100000))\n",
    "        ])\n",
    "    else:\n",
    "        pipe_LG_PCA = Pipeline([\n",
    "             (\"pca\", PCA(n_components=RV, random_state=42)),\n",
    "            (\"scale\", StandardScaler()),\n",
    "            ('lg_clf', LogisticRegression(multi_class='ovr',max_iter=100000))\n",
    "        ])\n",
    "\n",
    "    pipe_LG_PCA.fit(X_train, y_train)\n",
    "    y_pred_LG_PCA = pipe_LG_PCA.predict(X_valid)\n",
    "    \n",
    "    #save the accuracy\n",
    "    accuracy = accuracy_score(y_valid, y_pred_LG_PCA)\n",
    "    accuracy_LG.append(accuracy)"
   ]
  },
  {
   "cell_type": "code",
   "execution_count": 171,
   "metadata": {},
   "outputs": [
    {
     "data": {
      "text/plain": [
       "Text(0.5, 1.0, 'The number of dimensions in relation to the accuracy we obtained on Logistic Regression')"
      ]
     },
     "execution_count": 171,
     "metadata": {},
     "output_type": "execute_result"
    },
    {
     "data": {
      "image/png": "[encoded data removed]",
      "text/plain": [
       "<Figure size 432x288 with 1 Axes>"
      ]
     },
     "metadata": {
      "needs_background": "light"
     },
     "output_type": "display_data"
    }
   ],
   "source": [
    "ax = plt.axes()\n",
    "ax.plot(num_components, accuracy_LG)\n",
    "plt.title(\"The number of dimensions in relation to the accuracy we obtained on Logistic Regression\", fontsize=17, fontweight=100)"
   ]
  },
  {
   "cell_type": "markdown",
   "metadata": {},
   "source": [
    "* ### It can be seen that the best model is achieved with the help of all the data (180 dimensions).\n",
    "* ### In addition, it can be seen that the decrease in accuracy is almost linear."
   ]
  },
  {
   "cell_type": "code",
   "execution_count": 174,
   "metadata": {},
   "outputs": [
    {
     "name": "stdout",
     "output_type": "stream",
     "text": [
      "\u001b[1m \u001b[4m We will now look in detail at the results of the model that uses all the data: \u001b[0m\n",
      "              precision    recall  f1-score   support\n",
      "\n",
      "       Alone     0.9496    1.0000    0.9742       132\n",
      "     Spontan     0.7273    0.5373    0.6180       134\n",
      "        Sync     0.6646    0.8015    0.7267       136\n",
      "\n",
      "    accuracy                         0.7786       402\n",
      "   macro avg     0.7805    0.7796    0.7730       402\n",
      "weighted avg     0.7791    0.7786    0.7717       402\n",
      "\n",
      "\u001b[1m \u001b[4m It can be seen that the situation \"Alone\" is the easiest to identify \u001b[0m\n"
     ]
    }
   ],
   "source": [
    "print(color.BOLD, color.UNDERLINE,'We will now look in detail at the results of the model that uses all the data:',\n",
    "     color.END)\n",
    "print(classification_report(y_valid, y_pred_LG_PCA,\n",
    "                                digits=4, target_names=classes))\n",
    "\n",
    "print(color.BOLD, color.UNDERLINE,'It can be seen that the situation \"Alone\" is the easiest to identify',\n",
    "     color.END)"
   ]
  },
  {
   "cell_type": "markdown",
   "metadata": {},
   "source": [
    "* ### Although without PCA the model would be less compact I think that from the data we have presented here it is clear that all dimensions have meaning in understanding the data (the decrease in accuracy is almost linear depending on the amount of dimensions)\n",
    "* ### Therefore I choose to use a model without PCA or at most a reduction to a retained variance of 0.95"
   ]
  },
  {
   "cell_type": "markdown",
   "metadata": {},
   "source": [
    "### Random Forest Classifier"
   ]
  },
  {
   "cell_type": "code",
   "execution_count": 175,
   "metadata": {},
   "outputs": [],
   "source": [
    "#---------------Random Forest Classifier with PCA-----------------------\n",
    "retained_variance = np.linspace(0.65, 1, num=8)\n",
    "accuracy_RF = []\n",
    "\n",
    "for RV in retained_variance:\n",
    "    if RV == 1:  # take all the components\n",
    "        pipe_RF_PCA = Pipeline([\n",
    "        (\"scale\", StandardScaler()),\n",
    "        ('rf_clf', RandomForestClassifier())\n",
    "        ])\n",
    "    else:\n",
    "        pipe_RF_PCA = Pipeline([\n",
    "             (\"pca\", PCA(n_components=RV, random_state=42)),\n",
    "            (\"scale\", StandardScaler()),\n",
    "            ('rf_clf', RandomForestClassifier())\n",
    "        ])\n",
    "\n",
    "    pipe_RF_PCA.fit(X_train, y_train)\n",
    "    y_pred_RF_PCA = pipe_RF_PCA.predict(X_valid)\n",
    "    \n",
    "    #save the accuracy\n",
    "    accuracy = accuracy_score(y_valid, y_pred_RF_PCA)\n",
    "    accuracy_RF.append(accuracy)"
   ]
  },
  {
   "cell_type": "code",
   "execution_count": 177,
   "metadata": {},
   "outputs": [
    {
     "data": {
      "text/plain": [
       "Text(0.5, 1.0, 'The number of dimensions in relation to the accuracy we obtained on Random Forest classifier')"
      ]
     },
     "execution_count": 177,
     "metadata": {},
     "output_type": "execute_result"
    },
    {
     "data": {
      "image/png": "[encoded data removed]",
      "text/plain": [
       "<Figure size 432x288 with 1 Axes>"
      ]
     },
     "metadata": {
      "needs_background": "light"
     },
     "output_type": "display_data"
    }
   ],
   "source": [
    "ax = plt.axes()\n",
    "ax.plot(num_components, accuracy_RF)\n",
    "plt.title(\"The number of dimensions in relation to the accuracy we obtained on Random Forest classifier\", fontsize=17, fontweight=100)"
   ]
  },
  {
   "cell_type": "markdown",
   "metadata": {},
   "source": [
    "* ### Here too it can be seen that it is will be better not to perform a PCA and use all the data"
   ]
  },
  {
   "cell_type": "markdown",
   "metadata": {},
   "source": [
    "# xgboost classifier\n",
    "* ### We will now look for the best parameters for xgboost classifier\n",
    "* ### The parameters I will focus on:\n",
    "    * #### max_depth - Maximum depth of a tree. Increasing this value will make the model more complex and more likely to overfit. \n",
    "    * #### n_estimators - Number of gradient boosted trees. Equivalent to number of boosting rounds.\n",
    "    * #### n_components (of the PCA) - Number of components to keep."
   ]
  },
  {
   "cell_type": "code",
   "execution_count": 60,
   "metadata": {},
   "outputs": [],
   "source": [
    "import warnings\n",
    "warnings.filterwarnings(\"ignore\")"
   ]
  },
  {
   "cell_type": "code",
   "execution_count": 184,
   "metadata": {},
   "outputs": [
    {
     "data": {
      "text/plain": [
       "0.8308457711442786"
      ]
     },
     "execution_count": 184,
     "metadata": {},
     "output_type": "execute_result"
    }
   ],
   "source": [
    "# # Todo:  fix the overfiting\n",
    "\n",
    "\n",
    "# #---------------xgboost classifier with PCA-----------------------\n",
    "# pipe_xgb_PCA = Pipeline([\n",
    "# #     (\"pca\", PCA(n_components=0.99999, random_state=42)),\n",
    "#     (\"scale\", StandardScaler()),\n",
    "#     ('xgb', XGBClassifier(learning_rate = 0.2, n_estimators=64, seed=0, eval_metric='mlogloss'))\n",
    "# ])\n",
    "\n",
    "# pipe_xgb_PCA.fit(X_train, y_train)\n",
    "# y_pred_xgb_PCA = pipe_xgb_PCA.predict(X_valid)\n",
    "\n",
    "# #save the accuracy\n",
    "# accuracy = accuracy_score(y_valid, y_pred_xgb_PCA)\n",
    "# accuracy"
   ]
  },
  {
   "cell_type": "code",
   "execution_count": 181,
   "metadata": {},
   "outputs": [
    {
     "data": {
      "text/plain": [
       "0.845771144278607"
      ]
     },
     "execution_count": 181,
     "metadata": {},
     "output_type": "execute_result"
    }
   ],
   "source": [
    "# # Todo:  fix the overfiting\n",
    "\n",
    "\n",
    "# #---------------xgboost classifier with PCA-----------------------\n",
    "# pipe_xgb_PCA = Pipeline([\n",
    "# #     (\"pca\", PCA(n_components=0.99999, random_state=42)),\n",
    "#     (\"scale\", StandardScaler()),\n",
    "#     ('xgb', XGBClassifier(n_estimators=64, seed=0, eval_metric='mlogloss'))\n",
    "# ])\n",
    "\n",
    "# pipe_xgb_PCA.fit(X_train, y_train)\n",
    "# y_pred_xgb_PCA = pipe_xgb_PCA.predict(X_valid)\n",
    "\n",
    "# #save the accuracy\n",
    "# accuracy = accuracy_score(y_valid, y_pred_xgb_PCA)\n",
    "# accuracy"
   ]
  },
  {
   "cell_type": "code",
   "execution_count": 185,
   "metadata": {},
   "outputs": [],
   "source": [
    "#---------------xgboost classifier with PCA-----------------------\n",
    "retained_variance = np.linspace(50, 70, num=20)\n",
    "accuracy_xgb = []\n",
    "\n",
    "for n in retained_variance:\n",
    "    n = int(n)\n",
    "    pipe_xgb_PCA = Pipeline([\n",
    "        (\"scale\", StandardScaler()),\n",
    "        ('xgb', XGBClassifier(learning_rate = 0.2, n_estimators=n, seed=0, eval_metric='mlogloss'))\n",
    "    ])\n",
    "\n",
    "    pipe_xgb_PCA.fit(X_train, y_train)\n",
    "    y_pred_xgb_PCA = pipe_xgb_PCA.predict(X_valid)\n",
    "\n",
    "    #save the accuracy\n",
    "    accuracy = accuracy_score(y_valid,y_pred_xgb_PCA)\n",
    "    accuracy_xgb.append(accuracy)"
   ]
  },
  {
   "cell_type": "code",
   "execution_count": 190,
   "metadata": {},
   "outputs": [
    {
     "data": {
      "text/plain": [
       "Text(0.5, 1.0, \"The number of 'n_estimators' in relation to the accuracy we obtained on xgboost classifier\")"
      ]
     },
     "execution_count": 190,
     "metadata": {},
     "output_type": "execute_result"
    },
    {
     "data": {
      "image/png": "[encoded data removed]",
      "text/plain": [
       "<Figure size 432x288 with 1 Axes>"
      ]
     },
     "metadata": {
      "needs_background": "light"
     },
     "output_type": "display_data"
    }
   ],
   "source": [
    "ax = plt.axes()\n",
    "ax.plot(np.linspace(50, 70, num=20), accuracy_xgb)\n",
    "plt.title(\"The number of 'n_estimators' in relation to the accuracy we obtained on xgboost classifier\", fontsize=17, fontweight=100)"
   ]
  },
  {
   "cell_type": "markdown",
   "metadata": {},
   "source": [
    "* ### As we can see n = 67 This is the ideal n_estimators -> its accuracy = 0.8333333333333334"
   ]
  },
  {
   "cell_type": "code",
   "execution_count": 206,
   "metadata": {},
   "outputs": [],
   "source": [
    "#---------------xgboost classifier with PCA-----------------------\n",
    "max_depth = [1,2,3,4,6,8]\n",
    "accuracy_xgb = []\n",
    "\n",
    "for n in max_depth:\n",
    "    pipe_xgb_PCA = Pipeline([\n",
    "        (\"scale\", StandardScaler()),\n",
    "        ('xgb', XGBClassifier(learning_rate = 0.2, n_estimators=67, max_depth=n, seed=0, eval_metric='mlogloss'))\n",
    "    ])\n",
    "\n",
    "    pipe_xgb_PCA.fit(X_train, y_train)\n",
    "    y_pred_xgb_PCA = pipe_xgb_PCA.predict(X_valid)\n",
    "\n",
    "    #save the accuracy\n",
    "    accuracy = accuracy_score(y_valid,y_pred_xgb_PCA)\n",
    "    accuracy_xgb.append(accuracy)"
   ]
  },
  {
   "cell_type": "code",
   "execution_count": 207,
   "metadata": {},
   "outputs": [
    {
     "data": {
      "text/plain": [
       "Text(0.5, 1.0, \"The number of 'max_depth' in relation to the accuracy we obtained on xgboost classifier\")"
      ]
     },
     "execution_count": 207,
     "metadata": {},
     "output_type": "execute_result"
    },
    {
     "data": {
      "image/png": "[encoded data removed]",
      "text/plain": [
       "<Figure size 432x288 with 1 Axes>"
      ]
     },
     "metadata": {
      "needs_background": "light"
     },
     "output_type": "display_data"
    }
   ],
   "source": [
    "ax = plt.axes()\n",
    "ax.plot(max_depth, accuracy_xgb)\n",
    "plt.title(\"The number of 'max_depth' in relation to the accuracy we obtained on xgboost classifier\", fontsize=17, fontweight=100)"
   ]
  },
  {
   "cell_type": "markdown",
   "metadata": {},
   "source": [
    "* ### As we can see n = 1 This is the ideal max_depth -> its accuracy = 0.8830845771144279"
   ]
  },
  {
   "cell_type": "code",
   "execution_count": 210,
   "metadata": {},
   "outputs": [],
   "source": [
    "#---------------xgboost classifier with PCA-----------------------\n",
    "retained_variance = np.linspace(0.65, 1, num=8)\n",
    "accuracy_xgb = []\n",
    "\n",
    "for RV in retained_variance:\n",
    "    if RV == 1:  # take all the components\n",
    "        pipe_xgb_PCA = Pipeline([\n",
    "        (\"scale\", StandardScaler()),\n",
    "        ('xgb', XGBClassifier(learning_rate = 0.2, n_estimators=67, max_depth=1, seed=0, eval_metric='mlogloss'))\n",
    "        ])\n",
    "    else:\n",
    "        pipe_xgb_PCA = Pipeline([\n",
    "             (\"pca\", PCA(n_components=RV, random_state=42)),\n",
    "            (\"scale\", StandardScaler()),\n",
    "            ('xgb', XGBClassifier(learning_rate = 0.2, n_estimators=67, max_depth=1, seed=0, eval_metric='mlogloss'))\n",
    "        ])\n",
    "\n",
    "    pipe_xgb_PCA.fit(X_train, y_train)\n",
    "    y_pred_xgb_PCA = pipe_xgb_PCA.predict(X_valid)\n",
    "\n",
    "    #save the accuracy\n",
    "    accuracy = accuracy_score(y_valid,y_pred_xgb_PCA)\n",
    "    accuracy_xgb.append(accuracy)"
   ]
  },
  {
   "cell_type": "code",
   "execution_count": 212,
   "metadata": {},
   "outputs": [
    {
     "data": {
      "text/plain": [
       "Text(0.5, 1.0, 'The number of dimensions in relation to the accuracy we obtained on xgboost classifier')"
      ]
     },
     "execution_count": 212,
     "metadata": {},
     "output_type": "execute_result"
    },
    {
     "data": {
      "image/png": "[encoded data removed]",
      "text/plain": [
       "<Figure size 432x288 with 1 Axes>"
      ]
     },
     "metadata": {
      "needs_background": "light"
     },
     "output_type": "display_data"
    }
   ],
   "source": [
    "ax = plt.axes()\n",
    "ax.plot(num_components, accuracy_xgb)\n",
    "plt.title(\"The number of dimensions in relation to the accuracy we obtained on xgboost classifier\", fontsize=17, fontweight=100)"
   ]
  },
  {
   "cell_type": "markdown",
   "metadata": {},
   "source": [
    "* ### Here too it can be seen that it is will be better not to perform a PCA and use all the data, and if we do PCA it will be a very small reduction\n"
   ]
  },
  {
   "cell_type": "markdown",
   "metadata": {},
   "source": [
    "### K-Neighbors Classifier \n",
    "* #### We will now find the ideal 'n' for 'n_neighbors'"
   ]
  },
  {
   "cell_type": "code",
   "execution_count": 213,
   "metadata": {},
   "outputs": [],
   "source": [
    "#---------------KNN Classifier----------------\n",
    "accuracy_knn = []\n",
    "\n",
    "for n in range(1,30):\n",
    "    pipe_KNN = Pipeline([\n",
    "        (\"scale\", StandardScaler()),\n",
    "        ('knn', KNeighborsClassifier(n_neighbors=n))\n",
    "    ])\n",
    "\n",
    "    pipe_KNN.fit(X_train, y_train)\n",
    "    y_pred_KNN = pipe_KNN.predict(X_valid)\n",
    "    \n",
    "    #save the accuracy\n",
    "    accuracy = accuracy_score(y_valid,y_pred_KNN)\n",
    "    accuracy_knn.append(accuracy)"
   ]
  },
  {
   "cell_type": "code",
   "execution_count": 214,
   "metadata": {},
   "outputs": [
    {
     "data": {
      "text/plain": [
       "Text(0.5, 1.0, \"The number of 'n_neighbors' in relation to the accuracy we obtained on KNN classifier\")"
      ]
     },
     "execution_count": 214,
     "metadata": {},
     "output_type": "execute_result"
    },
    {
     "data": {
      "image/png": "[encoded data removed]",
      "text/plain": [
       "<Figure size 432x288 with 1 Axes>"
      ]
     },
     "metadata": {
      "needs_background": "light"
     },
     "output_type": "display_data"
    }
   ],
   "source": [
    "ax = plt.axes()\n",
    "X = range(1,30)\n",
    "ax.plot(X, accuracy_knn)\n",
    "plt.title(\"The number of 'n_neighbors' in relation to the accuracy we obtained on KNN classifier\", fontsize=17, fontweight=100)"
   ]
  },
  {
   "cell_type": "markdown",
   "metadata": {},
   "source": [
    "* ### It can be seen that the optimal 'n' is n = 4"
   ]
  },
  {
   "cell_type": "markdown",
   "metadata": {},
   "source": [
    "### Extra Trees Classifier\n",
    "* ### We will now look for the best parameters for Extra Trees classifier\n",
    "* ### The parameters I will focus on:\n",
    "    * #### max_depth - The maximum depth of the tree. \n",
    "    * #### n_estimators - The number of trees in the forest."
   ]
  },
  {
   "cell_type": "code",
   "execution_count": 303,
   "metadata": {},
   "outputs": [],
   "source": [
    "#---------------Extra Trees Classifier with PCA-----------------------\n",
    "retained_variance = np.linspace(5, 300, num=80)\n",
    "accuracy_Ext = []\n",
    "\n",
    "for n in retained_variance:\n",
    "    n = int(n)\n",
    "    pipe_EXT_PCA = Pipeline([\n",
    "        (\"scale\", StandardScaler()),\n",
    "        ('EXT', ExtraTreesClassifier(n_estimators=n))\n",
    "    ])\n",
    "\n",
    "    pipe_EXT_PCA.fit(X_train, y_train)\n",
    "    y_pred_EXT_PCA = pipe_EXT_PCA.predict(X_valid)\n",
    "\n",
    "    #save the accuracy\n",
    "    accuracy = accuracy_score(y_valid,y_pred_EXT_PCA)\n",
    "    accuracy_Ext.append(accuracy)"
   ]
  },
  {
   "cell_type": "code",
   "execution_count": 304,
   "metadata": {},
   "outputs": [
    {
     "data": {
      "text/plain": [
       "Text(0.5, 1.0, \"The number of 'n_estimators' in relation to the accuracy we obtained on Extra Trees classifier\")"
      ]
     },
     "execution_count": 304,
     "metadata": {},
     "output_type": "execute_result"
    },
    {
     "data": {
      "image/png": "[encoded data removed]",
      "text/plain": [
       "<Figure size 432x288 with 1 Axes>"
      ]
     },
     "metadata": {
      "needs_background": "light"
     },
     "output_type": "display_data"
    }
   ],
   "source": [
    "ax = plt.axes()\n",
    "ax.plot(np.linspace(5, 300, num=80), accuracy_Ext)\n",
    "plt.title(\"The number of 'n_estimators' in relation to the accuracy we obtained on Extra Trees classifier\", fontsize=17, fontweight=100)"
   ]
  },
  {
   "cell_type": "markdown",
   "metadata": {},
   "source": [
    "* ### The best n for 'n_estimators' is n = 200"
   ]
  },
  {
   "cell_type": "code",
   "execution_count": 310,
   "metadata": {},
   "outputs": [],
   "source": [
    "#---------------Extra Trees classifier with PCA-----------------------\n",
    "max_depth = [2,3,4,6,7,8,10,12]\n",
    "accuracy_Ext = []\n",
    "\n",
    "for n in max_depth:\n",
    "    pipe_EXT = Pipeline([\n",
    "        (\"scale\", StandardScaler()),\n",
    "        ('EXT', ExtraTreesClassifier(n_estimators=200, max_depth=n, random_state=42))\n",
    "    ])\n",
    "\n",
    "    pipe_EXT.fit(X_train, y_train)\n",
    "    y_pred_EXT = pipe_EXT.predict(X_valid)\n",
    "\n",
    "    #save the accuracy\n",
    "    accuracy = accuracy_score(y_valid,y_pred_EXT)\n",
    "    accuracy_Ext.append(accuracy)"
   ]
  },
  {
   "cell_type": "code",
   "execution_count": 312,
   "metadata": {},
   "outputs": [
    {
     "data": {
      "text/plain": [
       "Text(0.5, 1.0, \"The number of 'max_depth' in relation to the accuracy we obtained on Extra Trees classifier\")"
      ]
     },
     "execution_count": 312,
     "metadata": {},
     "output_type": "execute_result"
    },
    {
     "data": {
      "image/png": "[encoded data removed]",
      "text/plain": [
       "<Figure size 432x288 with 1 Axes>"
      ]
     },
     "metadata": {
      "needs_background": "light"
     },
     "output_type": "display_data"
    }
   ],
   "source": [
    "ax = plt.axes()\n",
    "ax.plot(max_depth, accuracy_Ext)\n",
    "plt.title(\"The number of 'max_depth' in relation to the accuracy we obtained on Extra Trees classifier\", fontsize=17, fontweight=100)"
   ]
  },
  {
   "cell_type": "markdown",
   "metadata": {},
   "source": [
    "* ### As we can see n = 8 This is the ideal max_depth -> its accuracy = 0.8880597014925373"
   ]
  },
  {
   "cell_type": "markdown",
   "metadata": {},
   "source": [
    "### We will now try to create an ensemble model that will contain the models we have seen so far in the best way:"
   ]
  },
  {
   "cell_type": "markdown",
   "metadata": {},
   "source": [
    "# Voting Classifier"
   ]
  },
  {
   "cell_type": "code",
   "execution_count": 318,
   "metadata": {},
   "outputs": [],
   "source": [
    "#---------------Voting Classifier with PCA-----------------------\n",
    "retained_variance = np.linspace(0.80, 1, num=40)\n",
    "accuracy_VOT = []\n",
    "\n",
    "for RV in retained_variance:\n",
    "    if RV == 1:  # take all the components\n",
    "        pipe_VOT = Pipeline([\n",
    "                    (\"scale\", StandardScaler()),\n",
    "                    ('voting_clf', VotingClassifier(\n",
    "                                estimators=[\n",
    "                        ('lg', LogisticRegression(multi_class='ovr',max_iter=100000)),\n",
    "                        ('rf', RandomForestClassifier()),\n",
    "                        ('knn', KNeighborsClassifier(n_neighbors=4)),\n",
    "                        ('EXT', ExtraTreesClassifier(n_estimators=200, max_depth=8, random_state=42)),\n",
    "                        ('xgb', XGBClassifier(learning_rate = 0.2, n_estimators=67, max_depth=1, seed=0, eval_metric='mlogloss'))\n",
    "            ], voting='soft'))\n",
    "])\n",
    "\n",
    "    else:\n",
    "        pipe_VOT = Pipeline([\n",
    "                    (\"scale\", StandardScaler()),\n",
    "                    (\"pca\", PCA(n_components=RV, random_state=42)),\n",
    "                    ('voting_clf', VotingClassifier(\n",
    "                                estimators=[\n",
    "                        ('lg', LogisticRegression(multi_class='ovr',max_iter=100000)),\n",
    "                        ('rf', RandomForestClassifier()),\n",
    "                        ('knn', KNeighborsClassifier(n_neighbors=4)),\n",
    "                        ('EXT', ExtraTreesClassifier(n_estimators=200, max_depth=8, random_state=42)),\n",
    "                        ('xgb', XGBClassifier(learning_rate = 0.2, n_estimators=67, max_depth=1, seed=0, eval_metric='mlogloss'))\n",
    "            ], voting='soft'))\n",
    "])\n",
    "\n",
    "\n",
    "    pipe_VOT.fit(X_train, y_train)\n",
    "    y_pred_VOT_PCA = pipe_VOT.predict(X_valid)\n",
    "    \n",
    "    #save the accuracy\n",
    "    accuracy = accuracy_score(y_valid,y_pred_VOT_PCA)    \n",
    "    accuracy_VOT.append(accuracy)"
   ]
  },
  {
   "cell_type": "code",
   "execution_count": 319,
   "metadata": {},
   "outputs": [],
   "source": [
    "num_components_vot = []\n",
    "for RV in retained_variance:\n",
    "    if RV == 1:  # take all the components\n",
    "        num_components_vot.append(180)\n",
    "    else:\n",
    "        pca = PCA(n_components = RV, random_state=42)\n",
    "        X_reduced = pca.fit_transform(X_train_sc)\n",
    "        num_components_vot.append(X_reduced.shape[1])"
   ]
  },
  {
   "cell_type": "code",
   "execution_count": 320,
   "metadata": {},
   "outputs": [
    {
     "data": {
      "text/plain": [
       "Text(0.5, 1.0, 'The number of dimensions in relation to the accuracy we obtained on Voting classifier')"
      ]
     },
     "execution_count": 320,
     "metadata": {},
     "output_type": "execute_result"
    },
    {
     "data": {
      "image/png": "[encoded data removed]",
      "text/plain": [
       "<Figure size 432x288 with 1 Axes>"
      ]
     },
     "metadata": {
      "needs_background": "light"
     },
     "output_type": "display_data"
    }
   ],
   "source": [
    "ax = plt.axes()\n",
    "ax.plot(num_components_vot, accuracy_VOT)\n",
    "plt.title(\"The number of dimensions in relation to the accuracy we obtained on Voting classifier\", fontsize=17, fontweight=100)"
   ]
  },
  {
   "cell_type": "markdown",
   "metadata": {},
   "source": [
    "* ### Surprisingly we see that ostensibly if we take a PCA with 50 dimensions we will get a less good result only as a percentage of a model that uses all the data.\n",
    "* ### With PCA of 45 dimensions (0.923 of retained_variance) we get 0.8656716417910447 and on the model wuthout PCA we get 0.8756218905472637. \n",
    "* ### We will take this figure in proportion because it is surprising and different from what we have seen so far."
   ]
  },
  {
   "cell_type": "markdown",
   "metadata": {},
   "source": [
    "### Dummy Classifier\n",
    "* #### Each model must be at least better than Dummy Classifier to be considered a good model"
   ]
  },
  {
   "cell_type": "code",
   "execution_count": 458,
   "metadata": {},
   "outputs": [
    {
     "name": "stdout",
     "output_type": "stream",
     "text": [
      "              precision    recall  f1-score   support\n",
      "\n",
      "       Alone     0.3512    0.3506    0.3509      1101\n",
      "     Spontan     0.3420    0.3411    0.3416      1117\n",
      "        Sync     0.3369    0.3384    0.3376      1123\n",
      "\n",
      "    accuracy                         0.3433      3341\n",
      "   macro avg     0.3434    0.3434    0.3434      3341\n",
      "weighted avg     0.3433    0.3433    0.3433      3341\n",
      "\n"
     ]
    }
   ],
   "source": [
    "#-------- Dummy Classifier -------\n",
    "pipe_dm = Pipeline([\n",
    "    (\"scale\", StandardScaler()),\n",
    "    ('dm', DummyClassifier(strategy = 'stratified'))\n",
    "])\n",
    "\n",
    "y_pred_dm = cross_val_predict(pipe_dm, X_train, y_train)\n",
    "\n",
    "print(classification_report(y_train, y_pred_dm,\n",
    "                                digits=4, target_names=classes))\n",
    "\n",
    "#save the accuracy\n",
    "accuracy_dm = accuracy_score(y_train,y_pred_dm)"
   ]
  },
  {
   "cell_type": "markdown",
   "metadata": {},
   "source": [
    "* ### As we can see all the models are better than the Dummy Classifier"
   ]
  },
  {
   "cell_type": "code",
   "execution_count": null,
   "metadata": {},
   "outputs": [],
   "source": []
  },
  {
   "cell_type": "markdown",
   "metadata": {},
   "source": [
    "# Final Results - Comparing the best models"
   ]
  },
  {
   "cell_type": "code",
   "execution_count": 459,
   "metadata": {},
   "outputs": [
    {
     "data": {
      "text/plain": [
       "<function matplotlib.pyplot.show(*args, **kw)>"
      ]
     },
     "execution_count": 459,
     "metadata": {},
     "output_type": "execute_result"
    },
    {
     "data": {
      "image/png": "[encoded data removed]",
      "text/plain": [
       "<Figure size 1080x360 with 1 Axes>"
      ]
     },
     "metadata": {
      "needs_background": "light"
     },
     "output_type": "display_data"
    }
   ],
   "source": [
    "Models = [\"Logistic Regression\", \"Random Forest\", \"xgboost\", \"Knn\", \"Voting Classifier\", \"Voting Classifier with PCA of 45 dimensions\", \"Dummy Classifier\"]\n",
    "Accuracy = [0.7786,  0.845771144278607, 0.8830845771144279, 0.8781094527363185,  0.8756218905472637, 0.8656716417910447, 0.3433]\n",
    "\n",
    "fig = plt.figure(figsize=(15,5))\n",
    "ax = fig.add_axes([0,0,1,1])\n",
    "x = Models\n",
    "y = Accuracy\n",
    "sns.boxplot(x=x, y=y)\n",
    "plt.title(\"Accuracy comparison of the Models\",fontsize=25)\n",
    "plt.show"
   ]
  },
  {
   "cell_type": "markdown",
   "metadata": {},
   "source": [
    "## In conclusion:\n",
    "* ## Since our task was to build a model that is as accurate but also as compact as possible, I will choose the Voting Classifier with PCA of 45 dimensions.\n",
    "* ## In addition, it is an ensemble model and therefore it is more reliable and 'stronger' compared to a non-ensemble model (Knn, for example)"
   ]
  },
  {
   "cell_type": "markdown",
   "metadata": {},
   "source": [
    "# Test the model:\n",
    "\n",
    "* ### First, as we said earlier, we will connect the data train and data validation to one big data in order to train the model we have chosen, with as much data as possible:"
   ]
  },
  {
   "cell_type": "code",
   "execution_count": 338,
   "metadata": {},
   "outputs": [
    {
     "data": {
      "text/plain": [
       "(3341, 181)"
      ]
     },
     "execution_count": 338,
     "metadata": {},
     "output_type": "execute_result"
    }
   ],
   "source": [
    "df = pd.concat([df,df_valid])\n",
    "df = shuffle(df)\n",
    "df = df.reset_index(drop=True)\n",
    "df.shape"
   ]
  },
  {
   "cell_type": "code",
   "execution_count": 339,
   "metadata": {},
   "outputs": [
    {
     "data": {
      "text/plain": [
       "(3341, 180)"
      ]
     },
     "execution_count": 339,
     "metadata": {},
     "output_type": "execute_result"
    }
   ],
   "source": [
    "y_train = df['state']\n",
    "X_train = df.drop(\"state\",axis=1)\n",
    "\n",
    "X_train.shape"
   ]
  },
  {
   "cell_type": "markdown",
   "metadata": {},
   "source": [
    "* ### Loading data test:"
   ]
  },
  {
   "cell_type": "code",
   "execution_count": 266,
   "metadata": {},
   "outputs": [
    {
     "data": {
      "text/html": [
       "<div>\n",
       "<style scoped>\n",
       "    .dataframe tbody tr th:only-of-type {\n",
       "        vertical-align: middle;\n",
       "    }\n",
       "\n",
       "    .dataframe tbody tr th {\n",
       "        vertical-align: top;\n",
       "    }\n",
       "\n",
       "    .dataframe thead th {\n",
       "        text-align: right;\n",
       "    }\n",
       "</style>\n",
       "<table border=\"1\" class=\"dataframe\">\n",
       "  <thead>\n",
       "    <tr style=\"text-align: right;\">\n",
       "      <th></th>\n",
       "      <th>Position X_L_0</th>\n",
       "      <th>Position Y_L_0</th>\n",
       "      <th>Position Z_L_0</th>\n",
       "      <th>Velocity X_L_0</th>\n",
       "      <th>Velocity Y_L_0</th>\n",
       "      <th>Velocity Z_L_0</th>\n",
       "      <th>Pitch_L_0</th>\n",
       "      <th>Roll_L_0</th>\n",
       "      <th>Yaw_L_0</th>\n",
       "      <th>Wrist Pos X_L_0</th>\n",
       "      <th>...</th>\n",
       "      <th>Wrist Pos X_R_4</th>\n",
       "      <th>Wrist Pos Y_R_4</th>\n",
       "      <th>Wrist Pos Z_R_4</th>\n",
       "      <th>Elbow pos X_R_4</th>\n",
       "      <th>Elbow Pos Y_R_4</th>\n",
       "      <th>Elbow Pos Z_R_4</th>\n",
       "      <th>Grab Strenth_R_4</th>\n",
       "      <th>Grab Angle_R_4</th>\n",
       "      <th>Pinch Strength_R_4</th>\n",
       "      <th>state</th>\n",
       "    </tr>\n",
       "  </thead>\n",
       "  <tbody>\n",
       "    <tr>\n",
       "      <th>0</th>\n",
       "      <td>-108.22440</td>\n",
       "      <td>207.9178</td>\n",
       "      <td>97.711720</td>\n",
       "      <td>-0.071515</td>\n",
       "      <td>165.57220</td>\n",
       "      <td>107.16460</td>\n",
       "      <td>1.500600</td>\n",
       "      <td>1.185726</td>\n",
       "      <td>1.407507</td>\n",
       "      <td>-141.71500</td>\n",
       "      <td>...</td>\n",
       "      <td>194.31120</td>\n",
       "      <td>145.7368</td>\n",
       "      <td>78.45564</td>\n",
       "      <td>354.4719</td>\n",
       "      <td>-59.273540</td>\n",
       "      <td>117.95830</td>\n",
       "      <td>0.0</td>\n",
       "      <td>0.000000</td>\n",
       "      <td>0.0</td>\n",
       "      <td>3</td>\n",
       "    </tr>\n",
       "    <tr>\n",
       "      <th>1</th>\n",
       "      <td>-34.26217</td>\n",
       "      <td>150.6897</td>\n",
       "      <td>38.006430</td>\n",
       "      <td>231.413200</td>\n",
       "      <td>-71.82932</td>\n",
       "      <td>-48.41824</td>\n",
       "      <td>0.653065</td>\n",
       "      <td>0.241075</td>\n",
       "      <td>1.345737</td>\n",
       "      <td>-100.52710</td>\n",
       "      <td>...</td>\n",
       "      <td>54.62966</td>\n",
       "      <td>242.4959</td>\n",
       "      <td>40.14814</td>\n",
       "      <td>234.7267</td>\n",
       "      <td>140.040500</td>\n",
       "      <td>212.35020</td>\n",
       "      <td>0.0</td>\n",
       "      <td>0.117282</td>\n",
       "      <td>0.0</td>\n",
       "      <td>1</td>\n",
       "    </tr>\n",
       "    <tr>\n",
       "      <th>2</th>\n",
       "      <td>-125.20780</td>\n",
       "      <td>270.5536</td>\n",
       "      <td>47.800470</td>\n",
       "      <td>8.400753</td>\n",
       "      <td>106.33170</td>\n",
       "      <td>52.77100</td>\n",
       "      <td>1.359199</td>\n",
       "      <td>1.014568</td>\n",
       "      <td>1.144544</td>\n",
       "      <td>-163.36110</td>\n",
       "      <td>...</td>\n",
       "      <td>163.58450</td>\n",
       "      <td>191.9363</td>\n",
       "      <td>75.88947</td>\n",
       "      <td>315.7319</td>\n",
       "      <td>-21.508670</td>\n",
       "      <td>52.07822</td>\n",
       "      <td>0.0</td>\n",
       "      <td>0.000000</td>\n",
       "      <td>0.0</td>\n",
       "      <td>3</td>\n",
       "    </tr>\n",
       "    <tr>\n",
       "      <th>3</th>\n",
       "      <td>-125.44390</td>\n",
       "      <td>174.6315</td>\n",
       "      <td>-23.618820</td>\n",
       "      <td>48.267310</td>\n",
       "      <td>-23.51253</td>\n",
       "      <td>-14.95533</td>\n",
       "      <td>0.647395</td>\n",
       "      <td>2.275146</td>\n",
       "      <td>0.979543</td>\n",
       "      <td>-178.52470</td>\n",
       "      <td>...</td>\n",
       "      <td>185.93130</td>\n",
       "      <td>131.2952</td>\n",
       "      <td>15.74748</td>\n",
       "      <td>382.4771</td>\n",
       "      <td>83.556860</td>\n",
       "      <td>160.36900</td>\n",
       "      <td>0.0</td>\n",
       "      <td>0.578732</td>\n",
       "      <td>0.0</td>\n",
       "      <td>2</td>\n",
       "    </tr>\n",
       "    <tr>\n",
       "      <th>4</th>\n",
       "      <td>-95.18724</td>\n",
       "      <td>223.6784</td>\n",
       "      <td>94.598960</td>\n",
       "      <td>-111.904300</td>\n",
       "      <td>159.17220</td>\n",
       "      <td>43.15387</td>\n",
       "      <td>1.611182</td>\n",
       "      <td>0.939033</td>\n",
       "      <td>1.636137</td>\n",
       "      <td>-128.16440</td>\n",
       "      <td>...</td>\n",
       "      <td>207.52550</td>\n",
       "      <td>180.4247</td>\n",
       "      <td>28.25300</td>\n",
       "      <td>293.4394</td>\n",
       "      <td>-29.166640</td>\n",
       "      <td>115.81680</td>\n",
       "      <td>0.0</td>\n",
       "      <td>0.202259</td>\n",
       "      <td>0.0</td>\n",
       "      <td>2</td>\n",
       "    </tr>\n",
       "    <tr>\n",
       "      <th>...</th>\n",
       "      <td>...</td>\n",
       "      <td>...</td>\n",
       "      <td>...</td>\n",
       "      <td>...</td>\n",
       "      <td>...</td>\n",
       "      <td>...</td>\n",
       "      <td>...</td>\n",
       "      <td>...</td>\n",
       "      <td>...</td>\n",
       "      <td>...</td>\n",
       "      <td>...</td>\n",
       "      <td>...</td>\n",
       "      <td>...</td>\n",
       "      <td>...</td>\n",
       "      <td>...</td>\n",
       "      <td>...</td>\n",
       "      <td>...</td>\n",
       "      <td>...</td>\n",
       "      <td>...</td>\n",
       "      <td>...</td>\n",
       "      <td>...</td>\n",
       "    </tr>\n",
       "    <tr>\n",
       "      <th>1584</th>\n",
       "      <td>-124.21680</td>\n",
       "      <td>199.9627</td>\n",
       "      <td>6.373457</td>\n",
       "      <td>136.973700</td>\n",
       "      <td>-52.05759</td>\n",
       "      <td>-29.78218</td>\n",
       "      <td>0.660997</td>\n",
       "      <td>0.570373</td>\n",
       "      <td>0.522963</td>\n",
       "      <td>-163.78580</td>\n",
       "      <td>...</td>\n",
       "      <td>210.80610</td>\n",
       "      <td>154.2538</td>\n",
       "      <td>131.87420</td>\n",
       "      <td>385.6276</td>\n",
       "      <td>-40.320300</td>\n",
       "      <td>134.20460</td>\n",
       "      <td>0.0</td>\n",
       "      <td>0.240510</td>\n",
       "      <td>0.0</td>\n",
       "      <td>2</td>\n",
       "    </tr>\n",
       "    <tr>\n",
       "      <th>1585</th>\n",
       "      <td>-130.64990</td>\n",
       "      <td>242.9051</td>\n",
       "      <td>25.303710</td>\n",
       "      <td>-2.703259</td>\n",
       "      <td>35.78471</td>\n",
       "      <td>-98.46572</td>\n",
       "      <td>0.540791</td>\n",
       "      <td>1.990464</td>\n",
       "      <td>0.418228</td>\n",
       "      <td>-159.47640</td>\n",
       "      <td>...</td>\n",
       "      <td>30.20442</td>\n",
       "      <td>226.1618</td>\n",
       "      <td>81.06244</td>\n",
       "      <td>204.9797</td>\n",
       "      <td>147.096600</td>\n",
       "      <td>230.33240</td>\n",
       "      <td>0.0</td>\n",
       "      <td>0.000000</td>\n",
       "      <td>0.0</td>\n",
       "      <td>3</td>\n",
       "    </tr>\n",
       "    <tr>\n",
       "      <th>1586</th>\n",
       "      <td>-143.93240</td>\n",
       "      <td>277.8022</td>\n",
       "      <td>107.275300</td>\n",
       "      <td>-160.728900</td>\n",
       "      <td>31.95984</td>\n",
       "      <td>-41.87959</td>\n",
       "      <td>2.313693</td>\n",
       "      <td>0.251958</td>\n",
       "      <td>1.834842</td>\n",
       "      <td>-204.94690</td>\n",
       "      <td>...</td>\n",
       "      <td>23.73484</td>\n",
       "      <td>170.6067</td>\n",
       "      <td>46.25003</td>\n",
       "      <td>132.0223</td>\n",
       "      <td>-3.564826</td>\n",
       "      <td>224.90820</td>\n",
       "      <td>0.0</td>\n",
       "      <td>0.372123</td>\n",
       "      <td>0.0</td>\n",
       "      <td>1</td>\n",
       "    </tr>\n",
       "    <tr>\n",
       "      <th>1587</th>\n",
       "      <td>-46.83142</td>\n",
       "      <td>150.2017</td>\n",
       "      <td>-8.541468</td>\n",
       "      <td>13.708260</td>\n",
       "      <td>83.73742</td>\n",
       "      <td>46.03798</td>\n",
       "      <td>0.620242</td>\n",
       "      <td>2.032865</td>\n",
       "      <td>0.526681</td>\n",
       "      <td>-81.78284</td>\n",
       "      <td>...</td>\n",
       "      <td>181.32620</td>\n",
       "      <td>157.6354</td>\n",
       "      <td>77.75506</td>\n",
       "      <td>372.0177</td>\n",
       "      <td>0.724145</td>\n",
       "      <td>109.95850</td>\n",
       "      <td>0.0</td>\n",
       "      <td>0.000000</td>\n",
       "      <td>0.0</td>\n",
       "      <td>3</td>\n",
       "    </tr>\n",
       "    <tr>\n",
       "      <th>1588</th>\n",
       "      <td>-73.09766</td>\n",
       "      <td>268.9001</td>\n",
       "      <td>38.204750</td>\n",
       "      <td>-49.503490</td>\n",
       "      <td>-23.79825</td>\n",
       "      <td>111.40220</td>\n",
       "      <td>1.047764</td>\n",
       "      <td>0.324232</td>\n",
       "      <td>1.068697</td>\n",
       "      <td>-125.63980</td>\n",
       "      <td>...</td>\n",
       "      <td>62.18293</td>\n",
       "      <td>164.0372</td>\n",
       "      <td>82.82986</td>\n",
       "      <td>196.8600</td>\n",
       "      <td>134.830400</td>\n",
       "      <td>314.43750</td>\n",
       "      <td>0.0</td>\n",
       "      <td>0.510769</td>\n",
       "      <td>0.0</td>\n",
       "      <td>1</td>\n",
       "    </tr>\n",
       "  </tbody>\n",
       "</table>\n",
       "<p>1589 rows × 181 columns</p>\n",
       "</div>"
      ],
      "text/plain": [
       "       Position X_L_0   Position Y_L_0   Position Z_L_0   Velocity X_L_0  \\\n",
       "0          -108.22440         207.9178        97.711720        -0.071515   \n",
       "1           -34.26217         150.6897        38.006430       231.413200   \n",
       "2          -125.20780         270.5536        47.800470         8.400753   \n",
       "3          -125.44390         174.6315       -23.618820        48.267310   \n",
       "4           -95.18724         223.6784        94.598960      -111.904300   \n",
       "...               ...              ...              ...              ...   \n",
       "1584       -124.21680         199.9627         6.373457       136.973700   \n",
       "1585       -130.64990         242.9051        25.303710        -2.703259   \n",
       "1586       -143.93240         277.8022       107.275300      -160.728900   \n",
       "1587        -46.83142         150.2017        -8.541468        13.708260   \n",
       "1588        -73.09766         268.9001        38.204750       -49.503490   \n",
       "\n",
       "       Velocity Y_L_0   Velocity Z_L_0   Pitch_L_0   Roll_L_0   Yaw_L_0  \\\n",
       "0           165.57220        107.16460    1.500600   1.185726  1.407507   \n",
       "1           -71.82932        -48.41824    0.653065   0.241075  1.345737   \n",
       "2           106.33170         52.77100    1.359199   1.014568  1.144544   \n",
       "3           -23.51253        -14.95533    0.647395   2.275146  0.979543   \n",
       "4           159.17220         43.15387    1.611182   0.939033  1.636137   \n",
       "...               ...              ...         ...        ...       ...   \n",
       "1584        -52.05759        -29.78218    0.660997   0.570373  0.522963   \n",
       "1585         35.78471        -98.46572    0.540791   1.990464  0.418228   \n",
       "1586         31.95984        -41.87959    2.313693   0.251958  1.834842   \n",
       "1587         83.73742         46.03798    0.620242   2.032865  0.526681   \n",
       "1588        -23.79825        111.40220    1.047764   0.324232  1.068697   \n",
       "\n",
       "       Wrist Pos X_L_0  ...   Wrist Pos X_R_4   Wrist Pos Y_R_4  \\\n",
       "0           -141.71500  ...         194.31120          145.7368   \n",
       "1           -100.52710  ...          54.62966          242.4959   \n",
       "2           -163.36110  ...         163.58450          191.9363   \n",
       "3           -178.52470  ...         185.93130          131.2952   \n",
       "4           -128.16440  ...         207.52550          180.4247   \n",
       "...                ...  ...               ...               ...   \n",
       "1584        -163.78580  ...         210.80610          154.2538   \n",
       "1585        -159.47640  ...          30.20442          226.1618   \n",
       "1586        -204.94690  ...          23.73484          170.6067   \n",
       "1587         -81.78284  ...         181.32620          157.6354   \n",
       "1588        -125.63980  ...          62.18293          164.0372   \n",
       "\n",
       "       Wrist Pos Z_R_4   Elbow pos X_R_4   Elbow Pos Y_R_4   Elbow Pos Z_R_4  \\\n",
       "0             78.45564          354.4719        -59.273540         117.95830   \n",
       "1             40.14814          234.7267        140.040500         212.35020   \n",
       "2             75.88947          315.7319        -21.508670          52.07822   \n",
       "3             15.74748          382.4771         83.556860         160.36900   \n",
       "4             28.25300          293.4394        -29.166640         115.81680   \n",
       "...                ...               ...               ...               ...   \n",
       "1584         131.87420          385.6276        -40.320300         134.20460   \n",
       "1585          81.06244          204.9797        147.096600         230.33240   \n",
       "1586          46.25003          132.0223         -3.564826         224.90820   \n",
       "1587          77.75506          372.0177          0.724145         109.95850   \n",
       "1588          82.82986          196.8600        134.830400         314.43750   \n",
       "\n",
       "       Grab Strenth_R_4   Grab Angle_R_4   Pinch Strength_R_4  state  \n",
       "0                   0.0         0.000000                  0.0      3  \n",
       "1                   0.0         0.117282                  0.0      1  \n",
       "2                   0.0         0.000000                  0.0      3  \n",
       "3                   0.0         0.578732                  0.0      2  \n",
       "4                   0.0         0.202259                  0.0      2  \n",
       "...                 ...              ...                  ...    ...  \n",
       "1584                0.0         0.240510                  0.0      2  \n",
       "1585                0.0         0.000000                  0.0      3  \n",
       "1586                0.0         0.372123                  0.0      1  \n",
       "1587                0.0         0.000000                  0.0      3  \n",
       "1588                0.0         0.510769                  0.0      1  \n",
       "\n",
       "[1589 rows x 181 columns]"
      ]
     },
     "execution_count": 266,
     "metadata": {},
     "output_type": "execute_result"
    }
   ],
   "source": [
    "first = True\n",
    "for name in names_test:\n",
    "    person_path = os.path.join(test_dir, name)\n",
    "    df_person = Loading_dataset(person_path)\n",
    "    if first:\n",
    "        df_test = df_person\n",
    "        first = False\n",
    "    else:\n",
    "        df_test = pd.concat([df_test,df_person])\n",
    "df_test = shuffle(df_test)\n",
    "df_test = df_test.reset_index(drop=True)\n",
    "df_test"
   ]
  },
  {
   "cell_type": "code",
   "execution_count": 268,
   "metadata": {},
   "outputs": [
    {
     "data": {
      "text/plain": [
       "(1589, 180)"
      ]
     },
     "execution_count": 268,
     "metadata": {},
     "output_type": "execute_result"
    }
   ],
   "source": [
    "y_test = df_test['state']\n",
    "X_test = df_test.drop(\"state\",axis=1)\n",
    "\n",
    "X_test.shape"
   ]
  },
  {
   "cell_type": "code",
   "execution_count": 340,
   "metadata": {},
   "outputs": [
    {
     "data": {
      "text/html": [
       "<div>\n",
       "<style scoped>\n",
       "    .dataframe tbody tr th:only-of-type {\n",
       "        vertical-align: middle;\n",
       "    }\n",
       "\n",
       "    .dataframe tbody tr th {\n",
       "        vertical-align: top;\n",
       "    }\n",
       "\n",
       "    .dataframe thead th {\n",
       "        text-align: right;\n",
       "    }\n",
       "</style>\n",
       "<table border=\"1\" class=\"dataframe\">\n",
       "  <thead>\n",
       "    <tr style=\"text-align: right;\">\n",
       "      <th></th>\n",
       "      <th>Position X_L_0</th>\n",
       "      <th>Position Y_L_0</th>\n",
       "      <th>Position Z_L_0</th>\n",
       "      <th>Velocity X_L_0</th>\n",
       "      <th>Velocity Y_L_0</th>\n",
       "      <th>Velocity Z_L_0</th>\n",
       "      <th>Pitch_L_0</th>\n",
       "      <th>Roll_L_0</th>\n",
       "      <th>Yaw_L_0</th>\n",
       "      <th>Wrist Pos X_L_0</th>\n",
       "      <th>...</th>\n",
       "      <th>Yaw_R_4</th>\n",
       "      <th>Wrist Pos X_R_4</th>\n",
       "      <th>Wrist Pos Y_R_4</th>\n",
       "      <th>Wrist Pos Z_R_4</th>\n",
       "      <th>Elbow pos X_R_4</th>\n",
       "      <th>Elbow Pos Y_R_4</th>\n",
       "      <th>Elbow Pos Z_R_4</th>\n",
       "      <th>Grab Strenth_R_4</th>\n",
       "      <th>Grab Angle_R_4</th>\n",
       "      <th>Pinch Strength_R_4</th>\n",
       "    </tr>\n",
       "  </thead>\n",
       "  <tbody>\n",
       "    <tr>\n",
       "      <th>0</th>\n",
       "      <td>-108.22440</td>\n",
       "      <td>207.9178</td>\n",
       "      <td>97.711720</td>\n",
       "      <td>-0.071515</td>\n",
       "      <td>165.57220</td>\n",
       "      <td>107.16460</td>\n",
       "      <td>1.500600</td>\n",
       "      <td>1.185726</td>\n",
       "      <td>1.407507</td>\n",
       "      <td>-141.71500</td>\n",
       "      <td>...</td>\n",
       "      <td>-1.272094</td>\n",
       "      <td>194.31120</td>\n",
       "      <td>145.7368</td>\n",
       "      <td>78.45564</td>\n",
       "      <td>354.4719</td>\n",
       "      <td>-59.273540</td>\n",
       "      <td>117.95830</td>\n",
       "      <td>0.0</td>\n",
       "      <td>0.000000</td>\n",
       "      <td>0.0</td>\n",
       "    </tr>\n",
       "    <tr>\n",
       "      <th>1</th>\n",
       "      <td>-34.26217</td>\n",
       "      <td>150.6897</td>\n",
       "      <td>38.006430</td>\n",
       "      <td>231.413200</td>\n",
       "      <td>-71.82932</td>\n",
       "      <td>-48.41824</td>\n",
       "      <td>0.653065</td>\n",
       "      <td>0.241075</td>\n",
       "      <td>1.345737</td>\n",
       "      <td>-100.52710</td>\n",
       "      <td>...</td>\n",
       "      <td>-0.794178</td>\n",
       "      <td>54.62966</td>\n",
       "      <td>242.4959</td>\n",
       "      <td>40.14814</td>\n",
       "      <td>234.7267</td>\n",
       "      <td>140.040500</td>\n",
       "      <td>212.35020</td>\n",
       "      <td>0.0</td>\n",
       "      <td>0.117282</td>\n",
       "      <td>0.0</td>\n",
       "    </tr>\n",
       "    <tr>\n",
       "      <th>2</th>\n",
       "      <td>-125.20780</td>\n",
       "      <td>270.5536</td>\n",
       "      <td>47.800470</td>\n",
       "      <td>8.400753</td>\n",
       "      <td>106.33170</td>\n",
       "      <td>52.77100</td>\n",
       "      <td>1.359199</td>\n",
       "      <td>1.014568</td>\n",
       "      <td>1.144544</td>\n",
       "      <td>-163.36110</td>\n",
       "      <td>...</td>\n",
       "      <td>-1.923752</td>\n",
       "      <td>163.58450</td>\n",
       "      <td>191.9363</td>\n",
       "      <td>75.88947</td>\n",
       "      <td>315.7319</td>\n",
       "      <td>-21.508670</td>\n",
       "      <td>52.07822</td>\n",
       "      <td>0.0</td>\n",
       "      <td>0.000000</td>\n",
       "      <td>0.0</td>\n",
       "    </tr>\n",
       "    <tr>\n",
       "      <th>3</th>\n",
       "      <td>-125.44390</td>\n",
       "      <td>174.6315</td>\n",
       "      <td>-23.618820</td>\n",
       "      <td>48.267310</td>\n",
       "      <td>-23.51253</td>\n",
       "      <td>-14.95533</td>\n",
       "      <td>0.647395</td>\n",
       "      <td>2.275146</td>\n",
       "      <td>0.979543</td>\n",
       "      <td>-178.52470</td>\n",
       "      <td>...</td>\n",
       "      <td>-1.704096</td>\n",
       "      <td>185.93130</td>\n",
       "      <td>131.2952</td>\n",
       "      <td>15.74748</td>\n",
       "      <td>382.4771</td>\n",
       "      <td>83.556860</td>\n",
       "      <td>160.36900</td>\n",
       "      <td>0.0</td>\n",
       "      <td>0.578732</td>\n",
       "      <td>0.0</td>\n",
       "    </tr>\n",
       "    <tr>\n",
       "      <th>4</th>\n",
       "      <td>-95.18724</td>\n",
       "      <td>223.6784</td>\n",
       "      <td>94.598960</td>\n",
       "      <td>-111.904300</td>\n",
       "      <td>159.17220</td>\n",
       "      <td>43.15387</td>\n",
       "      <td>1.611182</td>\n",
       "      <td>0.939033</td>\n",
       "      <td>1.636137</td>\n",
       "      <td>-128.16440</td>\n",
       "      <td>...</td>\n",
       "      <td>-0.710023</td>\n",
       "      <td>207.52550</td>\n",
       "      <td>180.4247</td>\n",
       "      <td>28.25300</td>\n",
       "      <td>293.4394</td>\n",
       "      <td>-29.166640</td>\n",
       "      <td>115.81680</td>\n",
       "      <td>0.0</td>\n",
       "      <td>0.202259</td>\n",
       "      <td>0.0</td>\n",
       "    </tr>\n",
       "    <tr>\n",
       "      <th>...</th>\n",
       "      <td>...</td>\n",
       "      <td>...</td>\n",
       "      <td>...</td>\n",
       "      <td>...</td>\n",
       "      <td>...</td>\n",
       "      <td>...</td>\n",
       "      <td>...</td>\n",
       "      <td>...</td>\n",
       "      <td>...</td>\n",
       "      <td>...</td>\n",
       "      <td>...</td>\n",
       "      <td>...</td>\n",
       "      <td>...</td>\n",
       "      <td>...</td>\n",
       "      <td>...</td>\n",
       "      <td>...</td>\n",
       "      <td>...</td>\n",
       "      <td>...</td>\n",
       "      <td>...</td>\n",
       "      <td>...</td>\n",
       "      <td>...</td>\n",
       "    </tr>\n",
       "    <tr>\n",
       "      <th>1584</th>\n",
       "      <td>-124.21680</td>\n",
       "      <td>199.9627</td>\n",
       "      <td>6.373457</td>\n",
       "      <td>136.973700</td>\n",
       "      <td>-52.05759</td>\n",
       "      <td>-29.78218</td>\n",
       "      <td>0.660997</td>\n",
       "      <td>0.570373</td>\n",
       "      <td>0.522963</td>\n",
       "      <td>-163.78580</td>\n",
       "      <td>...</td>\n",
       "      <td>-1.416415</td>\n",
       "      <td>210.80610</td>\n",
       "      <td>154.2538</td>\n",
       "      <td>131.87420</td>\n",
       "      <td>385.6276</td>\n",
       "      <td>-40.320300</td>\n",
       "      <td>134.20460</td>\n",
       "      <td>0.0</td>\n",
       "      <td>0.240510</td>\n",
       "      <td>0.0</td>\n",
       "    </tr>\n",
       "    <tr>\n",
       "      <th>1585</th>\n",
       "      <td>-130.64990</td>\n",
       "      <td>242.9051</td>\n",
       "      <td>25.303710</td>\n",
       "      <td>-2.703259</td>\n",
       "      <td>35.78471</td>\n",
       "      <td>-98.46572</td>\n",
       "      <td>0.540791</td>\n",
       "      <td>1.990464</td>\n",
       "      <td>0.418228</td>\n",
       "      <td>-159.47640</td>\n",
       "      <td>...</td>\n",
       "      <td>-0.173669</td>\n",
       "      <td>30.20442</td>\n",
       "      <td>226.1618</td>\n",
       "      <td>81.06244</td>\n",
       "      <td>204.9797</td>\n",
       "      <td>147.096600</td>\n",
       "      <td>230.33240</td>\n",
       "      <td>0.0</td>\n",
       "      <td>0.000000</td>\n",
       "      <td>0.0</td>\n",
       "    </tr>\n",
       "    <tr>\n",
       "      <th>1586</th>\n",
       "      <td>-143.93240</td>\n",
       "      <td>277.8022</td>\n",
       "      <td>107.275300</td>\n",
       "      <td>-160.728900</td>\n",
       "      <td>31.95984</td>\n",
       "      <td>-41.87959</td>\n",
       "      <td>2.313693</td>\n",
       "      <td>0.251958</td>\n",
       "      <td>1.834842</td>\n",
       "      <td>-204.94690</td>\n",
       "      <td>...</td>\n",
       "      <td>-0.163275</td>\n",
       "      <td>23.73484</td>\n",
       "      <td>170.6067</td>\n",
       "      <td>46.25003</td>\n",
       "      <td>132.0223</td>\n",
       "      <td>-3.564826</td>\n",
       "      <td>224.90820</td>\n",
       "      <td>0.0</td>\n",
       "      <td>0.372123</td>\n",
       "      <td>0.0</td>\n",
       "    </tr>\n",
       "    <tr>\n",
       "      <th>1587</th>\n",
       "      <td>-46.83142</td>\n",
       "      <td>150.2017</td>\n",
       "      <td>-8.541468</td>\n",
       "      <td>13.708260</td>\n",
       "      <td>83.73742</td>\n",
       "      <td>46.03798</td>\n",
       "      <td>0.620242</td>\n",
       "      <td>2.032865</td>\n",
       "      <td>0.526681</td>\n",
       "      <td>-81.78284</td>\n",
       "      <td>...</td>\n",
       "      <td>-1.104975</td>\n",
       "      <td>181.32620</td>\n",
       "      <td>157.6354</td>\n",
       "      <td>77.75506</td>\n",
       "      <td>372.0177</td>\n",
       "      <td>0.724145</td>\n",
       "      <td>109.95850</td>\n",
       "      <td>0.0</td>\n",
       "      <td>0.000000</td>\n",
       "      <td>0.0</td>\n",
       "    </tr>\n",
       "    <tr>\n",
       "      <th>1588</th>\n",
       "      <td>-73.09766</td>\n",
       "      <td>268.9001</td>\n",
       "      <td>38.204750</td>\n",
       "      <td>-49.503490</td>\n",
       "      <td>-23.79825</td>\n",
       "      <td>111.40220</td>\n",
       "      <td>1.047764</td>\n",
       "      <td>0.324232</td>\n",
       "      <td>1.068697</td>\n",
       "      <td>-125.63980</td>\n",
       "      <td>...</td>\n",
       "      <td>-0.610039</td>\n",
       "      <td>62.18293</td>\n",
       "      <td>164.0372</td>\n",
       "      <td>82.82986</td>\n",
       "      <td>196.8600</td>\n",
       "      <td>134.830400</td>\n",
       "      <td>314.43750</td>\n",
       "      <td>0.0</td>\n",
       "      <td>0.510769</td>\n",
       "      <td>0.0</td>\n",
       "    </tr>\n",
       "  </tbody>\n",
       "</table>\n",
       "<p>1589 rows × 180 columns</p>\n",
       "</div>"
      ],
      "text/plain": [
       "       Position X_L_0   Position Y_L_0   Position Z_L_0   Velocity X_L_0  \\\n",
       "0          -108.22440         207.9178        97.711720        -0.071515   \n",
       "1           -34.26217         150.6897        38.006430       231.413200   \n",
       "2          -125.20780         270.5536        47.800470         8.400753   \n",
       "3          -125.44390         174.6315       -23.618820        48.267310   \n",
       "4           -95.18724         223.6784        94.598960      -111.904300   \n",
       "...               ...              ...              ...              ...   \n",
       "1584       -124.21680         199.9627         6.373457       136.973700   \n",
       "1585       -130.64990         242.9051        25.303710        -2.703259   \n",
       "1586       -143.93240         277.8022       107.275300      -160.728900   \n",
       "1587        -46.83142         150.2017        -8.541468        13.708260   \n",
       "1588        -73.09766         268.9001        38.204750       -49.503490   \n",
       "\n",
       "       Velocity Y_L_0   Velocity Z_L_0   Pitch_L_0   Roll_L_0   Yaw_L_0  \\\n",
       "0           165.57220        107.16460    1.500600   1.185726  1.407507   \n",
       "1           -71.82932        -48.41824    0.653065   0.241075  1.345737   \n",
       "2           106.33170         52.77100    1.359199   1.014568  1.144544   \n",
       "3           -23.51253        -14.95533    0.647395   2.275146  0.979543   \n",
       "4           159.17220         43.15387    1.611182   0.939033  1.636137   \n",
       "...               ...              ...         ...        ...       ...   \n",
       "1584        -52.05759        -29.78218    0.660997   0.570373  0.522963   \n",
       "1585         35.78471        -98.46572    0.540791   1.990464  0.418228   \n",
       "1586         31.95984        -41.87959    2.313693   0.251958  1.834842   \n",
       "1587         83.73742         46.03798    0.620242   2.032865  0.526681   \n",
       "1588        -23.79825        111.40220    1.047764   0.324232  1.068697   \n",
       "\n",
       "       Wrist Pos X_L_0  ...   Yaw_R_4   Wrist Pos X_R_4   Wrist Pos Y_R_4  \\\n",
       "0           -141.71500  ... -1.272094         194.31120          145.7368   \n",
       "1           -100.52710  ... -0.794178          54.62966          242.4959   \n",
       "2           -163.36110  ... -1.923752         163.58450          191.9363   \n",
       "3           -178.52470  ... -1.704096         185.93130          131.2952   \n",
       "4           -128.16440  ... -0.710023         207.52550          180.4247   \n",
       "...                ...  ...       ...               ...               ...   \n",
       "1584        -163.78580  ... -1.416415         210.80610          154.2538   \n",
       "1585        -159.47640  ... -0.173669          30.20442          226.1618   \n",
       "1586        -204.94690  ... -0.163275          23.73484          170.6067   \n",
       "1587         -81.78284  ... -1.104975         181.32620          157.6354   \n",
       "1588        -125.63980  ... -0.610039          62.18293          164.0372   \n",
       "\n",
       "       Wrist Pos Z_R_4   Elbow pos X_R_4   Elbow Pos Y_R_4   Elbow Pos Z_R_4  \\\n",
       "0             78.45564          354.4719        -59.273540         117.95830   \n",
       "1             40.14814          234.7267        140.040500         212.35020   \n",
       "2             75.88947          315.7319        -21.508670          52.07822   \n",
       "3             15.74748          382.4771         83.556860         160.36900   \n",
       "4             28.25300          293.4394        -29.166640         115.81680   \n",
       "...                ...               ...               ...               ...   \n",
       "1584         131.87420          385.6276        -40.320300         134.20460   \n",
       "1585          81.06244          204.9797        147.096600         230.33240   \n",
       "1586          46.25003          132.0223         -3.564826         224.90820   \n",
       "1587          77.75506          372.0177          0.724145         109.95850   \n",
       "1588          82.82986          196.8600        134.830400         314.43750   \n",
       "\n",
       "       Grab Strenth_R_4   Grab Angle_R_4   Pinch Strength_R_4  \n",
       "0                   0.0         0.000000                  0.0  \n",
       "1                   0.0         0.117282                  0.0  \n",
       "2                   0.0         0.000000                  0.0  \n",
       "3                   0.0         0.578732                  0.0  \n",
       "4                   0.0         0.202259                  0.0  \n",
       "...                 ...              ...                  ...  \n",
       "1584                0.0         0.240510                  0.0  \n",
       "1585                0.0         0.000000                  0.0  \n",
       "1586                0.0         0.372123                  0.0  \n",
       "1587                0.0         0.000000                  0.0  \n",
       "1588                0.0         0.510769                  0.0  \n",
       "\n",
       "[1589 rows x 180 columns]"
      ]
     },
     "execution_count": 340,
     "metadata": {},
     "output_type": "execute_result"
    }
   ],
   "source": [
    "X_test"
   ]
  },
  {
   "cell_type": "code",
   "execution_count": 400,
   "metadata": {},
   "outputs": [
    {
     "name": "stdout",
     "output_type": "stream",
     "text": [
      "              precision    recall  f1-score   support\n",
      "\n",
      "       Alone     0.9907    1.0000    0.9953       531\n",
      "     Spontan     0.7749    0.9679    0.8607       530\n",
      "        Sync     0.9591    0.7102    0.8161       528\n",
      "\n",
      "    accuracy                         0.8930      1589\n",
      "   macro avg     0.9082    0.8927    0.8907      1589\n",
      "weighted avg     0.9082    0.8930    0.8909      1589\n",
      "\n"
     ]
    },
    {
     "data": {
      "text/plain": [
       "0.8930144745122719"
      ]
     },
     "execution_count": 400,
     "metadata": {},
     "output_type": "execute_result"
    }
   ],
   "source": [
    "pipe_VOT = Pipeline([\n",
    "                    (\"scale\", StandardScaler()),\n",
    "                    (\"pca\", PCA(n_components=45, random_state=42)),\n",
    "                    ('voting_clf', VotingClassifier(\n",
    "                                estimators=[\n",
    "                        ('lg', LogisticRegression(multi_class='ovr',max_iter=100000)),\n",
    "                        ('rf', RandomForestClassifier()),\n",
    "                        ('knn', KNeighborsClassifier(n_neighbors=4)),\n",
    "                        ('EXT', ExtraTreesClassifier(n_estimators=200, max_depth=8, random_state=42)),\n",
    "                        ('xgb', XGBClassifier(learning_rate = 0.2, n_estimators=67, max_depth=1, seed=0, eval_metric='mlogloss'))\n",
    "            ], voting='soft'))\n",
    "])\n",
    "\n",
    "pipe_VOT.fit(X_train, y_train)\n",
    "y_pred_VOT_final = pipe_VOT.predict(X_test)\n",
    "\n",
    "print(classification_report(y_test, y_pred_VOT_final,\n",
    "                                digits=4, target_names=classes))\n",
    "\n",
    "#save the accuracy\n",
    "final_accuracy = accuracy_score(y_test,y_pred_VOT_final)   \n",
    "final_accuracy"
   ]
  },
  {
   "cell_type": "code",
   "execution_count": 460,
   "metadata": {},
   "outputs": [
    {
     "data": {
      "image/png": "[encoded data removed]",
      "text/plain": [
       "<Figure size 576x432 with 2 Axes>"
      ]
     },
     "metadata": {
      "needs_background": "light"
     },
     "output_type": "display_data"
    }
   ],
   "source": [
    "#----------------------Normalize Confusion matrix------------------------------------\n",
    "from sklearn.metrics import plot_confusion_matrix\n",
    "\n",
    "con_mat = confusion_matrix(y_test, y_pred_VOT_final,normalize='true')\n",
    "f, ax = plt.subplots(figsize=(8, 6))\n",
    "plt.title('Normalize Confusion matrix', size = 15)\n",
    "sns.heatmap(con_mat, annot=True, fmt='g',cmap=\"YlGnBu\")\n",
    "plt.xlabel('Predicted label')\n",
    "plt.ylabel('True label')\n",
    "plt.show()"
   ]
  },
  {
   "cell_type": "markdown",
   "metadata": {},
   "source": [
    "* ### Alone = 1\n",
    "* ### Spontan = 2\n",
    "* ### Sync = 3"
   ]
  },
  {
   "cell_type": "markdown",
   "metadata": {},
   "source": [
    "# In conclusion, we got a Voting Classifier model that we were able to reduce its dimensions from 180 to 45 dimensions (!) and reach an accuracy of - 89.30%"
   ]
  },
  {
   "cell_type": "code",
   "execution_count": null,
   "metadata": {},
   "outputs": [],
   "source": []
  },
  {
   "cell_type": "code",
   "execution_count": null,
   "metadata": {},
   "outputs": [],
   "source": []
  },
  {
   "cell_type": "code",
   "execution_count": null,
   "metadata": {},
   "outputs": [],
   "source": []
  },
  {
   "cell_type": "code",
   "execution_count": null,
   "metadata": {},
   "outputs": [],
   "source": []
  },
  {
   "cell_type": "code",
   "execution_count": null,
   "metadata": {},
   "outputs": [],
   "source": []
  },
  {
   "cell_type": "code",
   "execution_count": null,
   "metadata": {},
   "outputs": [],
   "source": []
  },
  {
   "cell_type": "code",
   "execution_count": null,
   "metadata": {},
   "outputs": [],
   "source": []
  }
 ],
 "metadata": {
  "kernelspec": {
   "display_name": "Python 3",
   "language": "python",
   "name": "python3"
  },
  "language_info": {
   "codemirror_mode": {
    "name": "ipython",
    "version": 3
   },
   "file_extension": ".py",
   "mimetype": "text/x-python",
   "name": "python",
   "nbconvert_exporter": "python",
   "pygments_lexer": "ipython3",
   "version": "3.8.3"
  }
 },
 "nbformat": 4,
 "nbformat_minor": 4
}
